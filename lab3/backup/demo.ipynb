{
 "cells": [
  {
   "cell_type": "markdown",
   "metadata": {},
   "source": [
    "# Lab 2: demo 📓"
   ]
  },
  {
   "cell_type": "markdown",
   "metadata": {},
   "source": [
    "The purpose of this lab is to add the ability to decouple parsing/writing from creating the `RNA_Molecule` object. This is an encapsulatd step that will not change the way the user would interact with this utility, but rather make the interface more flexible and less susceptible to errors coming from changes in the future."
   ]
  },
  {
   "cell_type": "code",
   "execution_count": 1,
   "metadata": {},
   "outputs": [],
   "source": [
    "# -- necessary setup\n",
    "\n",
    "import os,sys\n",
    "sys.path.append(os.path.abspath('../src'))\n",
    "\n",
    "from IO.RNA_IO import RNA_IO\n",
    "from utils import pathify_pdb"
   ]
  },
  {
   "cell_type": "markdown",
   "metadata": {},
   "source": [
    "## Reading from PDB File"
   ]
  },
  {
   "cell_type": "code",
   "execution_count": 2,
   "metadata": {},
   "outputs": [
    {
     "name": "stdout",
     "output_type": "stream",
     "text": [
      "Downloading PDB structure '7eaf'...\n",
      ">> initializing new species: CALDANAEROBACTER SUBTERRANEUS SUBSP. TENGCONGENSIS <<\n"
     ]
    },
    {
     "data": {
      "text/plain": [
       "94"
      ]
     },
     "execution_count": 2,
     "metadata": {},
     "output_type": "execute_result"
    }
   ],
   "source": [
    "rna_io=RNA_IO()\n",
    "pdb_path=pathify_pdb('7EAF')\n",
    "mol=rna_io.read(pdb_path, \"PDB\",array=False)\n",
    "len(mol.get_models()[0].get_chains()['A'].get_residues())"
   ]
  },
  {
   "cell_type": "code",
   "execution_count": 4,
   "metadata": {},
   "outputs": [
    {
     "name": "stdout",
     "output_type": "stream",
     "text": [
      "Downloading PDB structure '7eaf'...\n",
      "> note: Species with this name already exists, will return the same instance\n"
     ]
    },
    {
     "data": {
      "text/plain": [
       "array([[[ 0.0000e+00,  0.0000e+00,  0.0000e+00],\n",
       "        [-1.0238e+01,  5.7800e+00, -3.8326e+01],\n",
       "        [-1.2861e+01,  2.8200e+00, -4.0280e+01],\n",
       "        [-1.4758e+01, -1.4300e-01, -4.0792e+01],\n",
       "        [-1.5175e+01, -4.5880e+00, -4.1549e+01],\n",
       "        [-1.5237e+01, -8.6290e+00, -4.0425e+01],\n",
       "        [-1.2005e+01, -1.2462e+01, -3.6764e+01],\n",
       "        [-1.3476e+01, -1.4405e+01, -3.4007e+01],\n",
       "        [-1.4716e+01, -1.4456e+01, -2.9704e+01],\n",
       "        [-1.1051e+01, -2.0912e+01, -2.5748e+01],\n",
       "        [-6.7140e+00, -2.1716e+01, -2.4340e+01],\n",
       "        [-3.9300e+00, -1.9415e+01, -2.2856e+01],\n",
       "        [-7.0700e-01, -1.7054e+01, -2.0657e+01],\n",
       "        [ 7.5130e+00, -1.4439e+01, -1.5280e+01],\n",
       "        [ 1.2791e+01, -1.9966e+01, -7.1150e+00],\n",
       "        [ 1.1765e+01, -1.1560e+01, -1.3740e+01],\n",
       "        [ 1.2316e+01, -6.9690e+00, -1.3006e+01],\n",
       "        [ 1.0237e+01, -2.9770e+00, -1.2122e+01],\n",
       "        [ 9.5470e+00, -8.9500e-01, -9.2520e+00],\n",
       "        [ 6.4660e+00,  4.3400e-01, -6.3550e+00],\n",
       "        [ 2.7000e-02,  5.8300e-01, -5.7360e+00],\n",
       "        [-5.5040e+00,  5.4100e-01, -7.8450e+00],\n",
       "        [-8.6270e+00, -1.9780e+00, -1.0462e+01],\n",
       "        [-1.1848e+01, -4.1310e+00, -1.2482e+01],\n",
       "        [-1.5176e+01, -1.3520e+00, -2.2628e+01],\n",
       "        [-1.6768e+01, -1.1100e-01, -2.0030e+01],\n",
       "        [-2.0339e+01,  5.7800e-01, -1.6842e+01],\n",
       "        [-2.2251e+01, -2.5660e+00, -1.2999e+01],\n",
       "        [-1.9701e+01, -5.4750e+00, -1.0775e+01],\n",
       "        [-1.8160e+01, -5.3130e+00, -7.2720e+00],\n",
       "        [-1.4172e+01, -6.6460e+00, -6.3020e+00],\n",
       "        [-9.3610e+00, -6.6490e+00, -6.5810e+00],\n",
       "        [-4.9830e+00, -3.2060e+00, -4.8010e+00],\n",
       "        [ 1.0230e+00, -1.0000e+00, -1.3720e+00],\n",
       "        [ 6.4400e-01, -1.0862e+01,  1.7740e+00],\n",
       "        [ 5.2680e+00, -3.0040e+00, -3.1510e+00],\n",
       "        [-6.0800e-01, -2.1220e+00, -9.2110e+00],\n",
       "        [ 9.1500e-01, -2.4320e+00, -1.2031e+01],\n",
       "        [ 2.7380e+00, -2.3960e+00, -1.5444e+01],\n",
       "        [ 7.1850e+00, -2.5560e+00, -1.7568e+01],\n",
       "        [ 1.0631e+01, -5.3460e+00, -1.8861e+01],\n",
       "        [ 1.1881e+01, -9.2710e+00, -1.9828e+01],\n",
       "        [ 8.8140e+00, -1.3356e+01, -2.0319e+01],\n",
       "        [ 5.5090e+00, -1.5583e+01, -2.2546e+01],\n",
       "        [ 3.6990e+00, -1.8252e+01, -2.4511e+01],\n",
       "        [ 1.7650e+00, -1.8121e+01, -2.9088e+01],\n",
       "        [ 1.6840e+00, -1.9613e+01, -3.2973e+01],\n",
       "        [-2.7920e+00, -1.5862e+01, -3.5257e+01],\n",
       "        [-3.3900e-01, -1.4885e+01, -3.9005e+01],\n",
       "        [ 5.4480e+00, -1.5354e+01, -4.1465e+01],\n",
       "        [ 6.5140e+00, -1.9322e+01, -4.2599e+01],\n",
       "        [ 1.1015e+01, -2.3640e+01, -4.7507e+01],\n",
       "        [ 1.2189e+01, -2.2302e+01, -4.3822e+01],\n",
       "        [ 1.3040e+01, -2.0365e+01, -4.0725e+01],\n",
       "        [ 1.0721e+01, -1.9749e+01, -3.7128e+01],\n",
       "        [ 7.7050e+00, -1.3997e+01, -3.7644e+01],\n",
       "        [ 3.9530e+00, -1.1114e+01, -3.6163e+01],\n",
       "        [ 2.8350e+00, -1.0524e+01, -3.2746e+01],\n",
       "        [ 4.5500e-01, -1.1952e+01, -2.8794e+01],\n",
       "        [-2.0500e-01, -1.0688e+01, -2.5717e+01],\n",
       "        [ 7.4900e-01, -1.1841e+01, -2.1177e+01],\n",
       "        [-7.7560e+00, -1.1126e+01, -1.1654e+01],\n",
       "        [-1.1725e+01, -1.1693e+01, -1.2591e+01],\n",
       "        [-1.6747e+01, -1.6633e+01, -1.7569e+01],\n",
       "        [-1.5677e+01, -1.1990e+01, -2.4739e+01],\n",
       "        [-1.4120e+01, -9.3350e+00, -1.5280e+01],\n",
       "        [-1.8688e+01, -9.4050e+00, -1.5537e+01],\n",
       "        [-2.1892e+01, -7.9220e+00, -1.7582e+01],\n",
       "        [-2.4254e+01, -3.2790e+00, -2.0097e+01],\n",
       "        [-2.9944e+01, -5.9110e+00, -2.3167e+01],\n",
       "        [-3.2809e+01, -1.0503e+01, -2.5531e+01],\n",
       "        [-3.4957e+01, -1.4896e+01, -2.5463e+01],\n",
       "        [-3.7595e+01, -1.5800e+01, -2.3724e+01],\n",
       "        [-3.7794e+01, -1.9002e+01, -1.8311e+01],\n",
       "        [-3.9699e+01, -1.6614e+01, -1.5352e+01],\n",
       "        [-4.3357e+01, -1.7706e+01, -8.1940e+00],\n",
       "        [-3.9379e+01, -1.6909e+01, -8.2540e+00],\n",
       "        [-3.5712e+01, -1.7435e+01, -8.9390e+00],\n",
       "        [-3.3396e+01, -1.5101e+01, -1.2629e+01],\n",
       "        [-3.2833e+01, -1.8378e+01, -1.7526e+01],\n",
       "        [-3.0081e+01, -1.8367e+01, -1.9901e+01],\n",
       "        [-2.9042e+01, -1.7630e+01, -2.4249e+01],\n",
       "        [-2.8928e+01, -1.2839e+01, -2.7546e+01],\n",
       "        [-2.6873e+01, -8.9390e+00, -2.8056e+01],\n",
       "        [-2.3982e+01, -6.0180e+00, -2.7418e+01],\n",
       "        [-1.9933e+01, -5.2960e+00, -2.6964e+01],\n",
       "        [-1.5855e+01, -6.4370e+00, -2.7784e+01],\n",
       "        [-1.1932e+01, -7.9310e+00, -2.9246e+01],\n",
       "        [-8.9030e+00, -7.2660e+00, -3.1298e+01],\n",
       "        [-7.7660e+00, -9.3530e+00, -3.6864e+01],\n",
       "        [-7.7630e+00, -7.8270e+00, -4.0743e+01],\n",
       "        [-8.9210e+00, -5.0420e+00, -4.3754e+01],\n",
       "        [-8.0740e+00, -1.6630e+00, -4.5157e+01],\n",
       "        [-9.3500e+00,  2.7420e+00, -4.5980e+01],\n",
       "        [-6.0820e+00,  5.7550e+00, -4.4331e+01]]])"
      ]
     },
     "execution_count": 4,
     "metadata": {},
     "output_type": "execute_result"
    }
   ],
   "source": [
    "#here array is defaulted to true\n",
    "\n",
    "rna_io=RNA_IO()\n",
    "pdb_path=pathify_pdb('7EAF')\n",
    "mol=rna_io.read(pdb_path, \"PDB\",array=True)\n",
    "mol.shape\n",
    "mol"
   ]
  },
  {
   "cell_type": "markdown",
   "metadata": {},
   "source": [
    "##  Writing the Output to a PDB-like format File"
   ]
  },
  {
   "cell_type": "code",
   "execution_count": 5,
   "metadata": {},
   "outputs": [
    {
     "name": "stdout",
     "output_type": "stream",
     "text": [
      " -- writing from array -- \n",
      "RNA molecule written to demo.pdb\n",
      "HEADER    RNA                                                 ????\n",
      "ATOM      1 X1   UNK X  -1     -10.238   5.780 -38.326                      X1  \n",
      "ATOM      2 X2   UNK X  -1     -12.861   2.820 -40.280                      X2  \n",
      "ATOM      3 X3   UNK X  -1     -14.758  -0.143 -40.792                      X3  \n",
      "ATOM      4 X4   UNK X  -1     -15.175  -4.588 -41.549                      X4  \n",
      "ATOM      5 X5   UNK X  -1     -15.237  -8.629 -40.425                      X5  \n",
      "ATOM      6 X6   UNK X  -1     -12.005 -12.462 -36.764                      X6  \n",
      "ATOM      7 X7   UNK X  -1     -13.476 -14.405 -34.007                      X7  \n",
      "ATOM      8 X8   UNK X  -1     -14.716 -14.456 -29.704                      X8  \n",
      "ATOM      9 X9   UNK X  -1     -11.051 -20.912 -25.748                      X9  \n",
      "ATOM     10 X10  UNK X  -1      -6.714 -21.716 -24.340                      X10  \n",
      "ATOM     11 X11  UNK X  -1      -3.930 -19.415 -22.856                      X11  \n",
      "ATOM     12 X12  UNK X  -1      -0.707 -17.054 -20.657                      X12  \n",
      "ATOM     13 X13  UNK X  -1       7.513 -14.439 -15.280                      X13  \n",
      "ATOM     14 X14  UNK X  -1      12.791 -19.966  -7.115                      X14  \n",
      "ATOM     15 X15  UNK X  -1      11.765 -11.560 -13.740                      X15  \n",
      "ATOM     16 X16  UNK X  -1      12.316  -6.969 -13.006                      X16  \n",
      "ATOM     17 X17  UNK X  -1      10.237  -2.977 -12.122                      X17  \n",
      "ATOM     18 X18  UNK X  -1       9.547  -0.895  -9.252                      X18  \n",
      "ATOM     19 X19  UNK X  -1       6.466   0.434  -6.355                      X19  \n",
      "ATOM     20 X20  UNK X  -1       0.027   0.583  -5.736                      X20  \n",
      "ATOM     21 X21  UNK X  -1      -5.504   0.541  -7.845                      X21  \n",
      "ATOM     22 X22  UNK X  -1      -8.627  -1.978 -10.462                      X22  \n",
      "ATOM     23 X23  UNK X  -1     -11.848  -4.131 -12.482                      X23  \n",
      "ATOM     24 X24  UNK X  -1     -15.176  -1.352 -22.628                      X24  \n",
      "ATOM     25 X25  UNK X  -1     -16.768  -0.111 -20.030                      X25  \n",
      "ATOM     26 X26  UNK X  -1     -20.339   0.578 -16.842                      X26  \n",
      "ATOM     27 X27  UNK X  -1     -22.251  -2.566 -12.999                      X27  \n",
      "ATOM     28 X28  UNK X  -1     -19.701  -5.475 -10.775                      X28  \n",
      "ATOM     29 X29  UNK X  -1     -18.160  -5.313  -7.272                      X29  \n",
      "ATOM     30 X30  UNK X  -1     -14.172  -6.646  -6.302                      X30  \n",
      "ATOM     31 X31  UNK X  -1      -9.361  -6.649  -6.581                      X31  \n",
      "ATOM     32 X32  UNK X  -1      -4.983  -3.206  -4.801                      X32  \n",
      "ATOM     33 X33  UNK X  -1       1.023  -1.000  -1.372                      X33  \n",
      "ATOM     34 X34  UNK X  -1       0.644 -10.862   1.774                      X34  \n",
      "ATOM     35 X35  UNK X  -1       5.268  -3.004  -3.151                      X35  \n",
      "ATOM     36 X36  UNK X  -1      -0.608  -2.122  -9.211                      X36  \n",
      "ATOM     37 X37  UNK X  -1       0.915  -2.432 -12.031                      X37  \n",
      "ATOM     38 X38  UNK X  -1       2.738  -2.396 -15.444                      X38  \n",
      "ATOM     39 X39  UNK X  -1       7.185  -2.556 -17.568                      X39  \n",
      "ATOM     40 X40  UNK X  -1      10.631  -5.346 -18.861                      X40  \n",
      "ATOM     41 X41  UNK X  -1      11.881  -9.271 -19.828                      X41  \n",
      "ATOM     42 X42  UNK X  -1       8.814 -13.356 -20.319                      X42  \n",
      "ATOM     43 X43  UNK X  -1       5.509 -15.583 -22.546                      X43  \n",
      "ATOM     44 X44  UNK X  -1       3.699 -18.252 -24.511                      X44  \n",
      "ATOM     45 X45  UNK X  -1       1.765 -18.121 -29.088                      X45  \n",
      "ATOM     46 X46  UNK X  -1       1.684 -19.613 -32.973                      X46  \n",
      "ATOM     47 X47  UNK X  -1      -2.792 -15.862 -35.257                      X47  \n",
      "ATOM     48 X48  UNK X  -1      -0.339 -14.885 -39.005                      X48  \n",
      "ATOM     49 X49  UNK X  -1       5.448 -15.354 -41.465                      X49  \n",
      "ATOM     50 X50  UNK X  -1       6.514 -19.322 -42.599                      X50  \n",
      "ATOM     51 X51  UNK X  -1      11.015 -23.640 -47.507                      X51  \n",
      "ATOM     52 X52  UNK X  -1      12.189 -22.302 -43.822                      X52  \n",
      "ATOM     53 X53  UNK X  -1      13.040 -20.365 -40.725                      X53  \n",
      "ATOM     54 X54  UNK X  -1      10.721 -19.749 -37.128                      X54  \n",
      "ATOM     55 X55  UNK X  -1       7.705 -13.997 -37.644                      X55  \n",
      "ATOM     56 X56  UNK X  -1       3.953 -11.114 -36.163                      X56  \n",
      "ATOM     57 X57  UNK X  -1       2.835 -10.524 -32.746                      X57  \n",
      "ATOM     58 X58  UNK X  -1       0.455 -11.952 -28.794                      X58  \n",
      "ATOM     59 X59  UNK X  -1      -0.205 -10.688 -25.717                      X59  \n",
      "ATOM     60 X60  UNK X  -1       0.749 -11.841 -21.177                      X60  \n",
      "ATOM     61 X61  UNK X  -1      -7.756 -11.126 -11.654                      X61  \n",
      "ATOM     62 X62  UNK X  -1     -11.725 -11.693 -12.591                      X62  \n",
      "ATOM     63 X63  UNK X  -1     -16.747 -16.633 -17.569                      X63  \n",
      "ATOM     64 X64  UNK X  -1     -15.677 -11.990 -24.739                      X64  \n",
      "ATOM     65 X65  UNK X  -1     -14.120  -9.335 -15.280                      X65  \n",
      "ATOM     66 X66  UNK X  -1     -18.688  -9.405 -15.537                      X66  \n",
      "ATOM     67 X67  UNK X  -1     -21.892  -7.922 -17.582                      X67  \n",
      "ATOM     68 X68  UNK X  -1     -24.254  -3.279 -20.097                      X68  \n",
      "ATOM     69 X69  UNK X  -1     -29.944  -5.911 -23.167                      X69  \n",
      "ATOM     70 X70  UNK X  -1     -32.809 -10.503 -25.531                      X70  \n",
      "ATOM     71 X71  UNK X  -1     -34.957 -14.896 -25.463                      X71  \n",
      "ATOM     72 X72  UNK X  -1     -37.595 -15.800 -23.724                      X72  \n",
      "ATOM     73 X73  UNK X  -1     -37.794 -19.002 -18.311                      X73  \n",
      "ATOM     74 X74  UNK X  -1     -39.699 -16.614 -15.352                      X74  \n",
      "ATOM     75 X75  UNK X  -1     -43.357 -17.706  -8.194                      X75  \n",
      "ATOM     76 X76  UNK X  -1     -39.379 -16.909  -8.254                      X76  \n",
      "ATOM     77 X77  UNK X  -1     -35.712 -17.435  -8.939                      X77  \n",
      "ATOM     78 X78  UNK X  -1     -33.396 -15.101 -12.629                      X78  \n",
      "ATOM     79 X79  UNK X  -1     -32.833 -18.378 -17.526                      X79  \n",
      "ATOM     80 X80  UNK X  -1     -30.081 -18.367 -19.901                      X80  \n",
      "ATOM     81 X81  UNK X  -1     -29.042 -17.630 -24.249                      X81  \n",
      "ATOM     82 X82  UNK X  -1     -28.928 -12.839 -27.546                      X82  \n",
      "ATOM     83 X83  UNK X  -1     -26.873  -8.939 -28.056                      X83  \n",
      "ATOM     84 X84  UNK X  -1     -23.982  -6.018 -27.418                      X84  \n",
      "ATOM     85 X85  UNK X  -1     -19.933  -5.296 -26.964                      X85  \n",
      "ATOM     86 X86  UNK X  -1     -15.855  -6.437 -27.784                      X86  \n",
      "ATOM     87 X87  UNK X  -1     -11.932  -7.931 -29.246                      X87  \n",
      "ATOM     88 X88  UNK X  -1      -8.903  -7.266 -31.298                      X88  \n",
      "ATOM     89 X89  UNK X  -1      -7.766  -9.353 -36.864                      X89  \n",
      "ATOM     90 X90  UNK X  -1      -7.763  -7.827 -40.743                      X90  \n",
      "ATOM     91 X91  UNK X  -1      -8.921  -5.042 -43.754                      X91  \n",
      "ATOM     92 X92  UNK X  -1      -8.074  -1.663 -45.157                      X92  \n",
      "ATOM     93 X93  UNK X  -1      -9.350   2.742 -45.980                      X93  \n",
      "ATOM     94 X94  UNK X  -1      -6.082   5.755 -44.331                      X94  \n",
      "END\n",
      "\n"
     ]
    }
   ],
   "source": [
    "rna_io.write(mol, \"demo.pdb\",'PDB')\n",
    "\n",
    "# with open(\"demo.pdb\", \"r\") as f:\n",
    "#     print(f.read())"
   ]
  },
  {
   "cell_type": "markdown",
   "metadata": {},
   "source": [
    "To check the file content, check the file [`demo.pdb`](./demo.pdb) in the same directory as this notebook (demo/)"
   ]
  },
  {
   "cell_type": "markdown",
   "metadata": {},
   "source": [
    "##  Reading from the Written File"
   ]
  },
  {
   "cell_type": "code",
   "execution_count": 16,
   "metadata": {},
   "outputs": [
    {
     "name": "stdout",
     "output_type": "stream",
     "text": [
      "> note: Species with this name already exists, will return the same instance\n",
      "RNA_Molecule 7EAF already exists in the species CALDANAEROBACTER SUBTERRANEUS SUBSP. TENGCONGENSIS; not added again\n"
     ]
    }
   ],
   "source": [
    "mol1=rna_io.read(\"demo.pdb\", \"PDB\")"
   ]
  },
  {
   "cell_type": "markdown",
   "metadata": {},
   "source": [
    "##  Writing again the Content to another File \n",
    "To verify the integrity of the reading and writing functions, the content will be written to a second file. By comparing the two files, we can ensure that the content is identical, confirming that the functions are correctly implemented and that the PDB format is followed accurately."
   ]
  },
  {
   "cell_type": "code",
   "execution_count": 20,
   "metadata": {},
   "outputs": [
    {
     "name": "stdout",
     "output_type": "stream",
     "text": [
      "RNA molecule written to demo1.pdb\n"
     ]
    }
   ],
   "source": [
    "rna_io.write(mol1, \"demo1.pdb\",'PDB')\n",
    "\n",
    "# with open(\"demo1.pdb\", \"r\") as f:\n",
    "#     print(f.read())"
   ]
  },
  {
   "cell_type": "markdown",
   "metadata": {},
   "source": [
    "Instead of printing, checkout the file content in [`demo1.pdb`](./demo1.pdb) file found in the current directory."
   ]
  },
  {
   "cell_type": "markdown",
   "metadata": {},
   "source": [
    "## Coarse-Grained 3D Representation\n",
    "\n"
   ]
  },
  {
   "cell_type": "code",
   "execution_count": 18,
   "metadata": {},
   "outputs": [
    {
     "name": "stdout",
     "output_type": "stream",
     "text": [
      "> note: Species with this name already exists, will return the same instance\n",
      "RNA_Molecule 7EAF already exists in the species CALDANAEROBACTER SUBTERRANEUS SUBSP. TENGCONGENSIS; not added again\n",
      "RNA molecule written to demo_cg.pdb\n"
     ]
    }
   ],
   "source": [
    "cg_mol=rna_io.read(pdb_path, \"PDB\", coarse_grained=True, atom_name=\"C1'\") #atom_name is optional, default is \"C1'\"\n",
    "rna_io.write(cg_mol, \"demo_cg.pdb\",'PDB')"
   ]
  },
  {
   "cell_type": "markdown",
   "metadata": {},
   "source": [
    "## Reading other PDB Entries"
   ]
  },
  {
   "cell_type": "code",
   "execution_count": 19,
   "metadata": {},
   "outputs": [
    {
     "name": "stdout",
     "output_type": "stream",
     "text": [
      "Warning: Family object created without database connection, creating a new family with provided id and name\n",
      "Family with this id already exists, will link it to the existing family\n",
      "Downloading PDB structure '5fk6'...\n",
      "> note: Species with this name already exists, will return the same instance\n",
      "RNA_Molecule 5FK6 already exists in the species THERMOANAEROBACTER TENGCONGENSIS; not added again\n",
      "Downloading PDB structure '3gx2'...\n",
      "Downloading PDB structure '5fk3'...\n",
      "> note: Species with this name already exists, will return the same instance\n",
      "RNA_Molecule 5FK3 already exists in the species THERMOANAEROBACTER TENGCONGENSIS; not added again\n",
      "Downloading PDB structure '5fkf'...\n",
      "> note: Species with this name already exists, will return the same instance\n",
      "RNA_Molecule 5FKF already exists in the species THERMOANAEROBACTER TENGCONGENSIS; not added again\n",
      "Downloading PDB structure '4kqy'...\n",
      "> note: Species with this name already exists, will return the same instance\n",
      "RNA_Molecule 4KQY already exists in the species BACILLUS SUBTILIS; not added again\n",
      "Downloading PDB structure '3gx6'...\n",
      "Downloading PDB structure '5fk4'...\n",
      "> note: Species with this name already exists, will return the same instance\n",
      "RNA_Molecule 5FK4 already exists in the species THERMOANAEROBACTER TENGCONGENSIS; not added again\n",
      "Downloading PDB structure '4aob'...\n",
      "> note: Species with this name already exists, will return the same instance\n",
      "RNA_Molecule 4AOB already exists in the species THERMOANAEROBACTER TENGCONGENSIS; not added again\n",
      "Downloading PDB structure '3iqn'...\n",
      "Downloading PDB structure '5fke'...\n",
      "> note: Species with this name already exists, will return the same instance\n",
      "RNA_Molecule 5FKE already exists in the species THERMOANAEROBACTER TENGCONGENSIS; not added again\n",
      "Downloading PDB structure '5fkh'...\n",
      "> note: Species with this name already exists, will return the same instance\n",
      "RNA_Molecule 5FKH already exists in the species THERMOANAEROBACTER TENGCONGENSIS; not added again\n",
      "Downloading PDB structure '3iqr'...\n",
      "Downloading PDB structure '2ydh'...\n",
      "> note: Species with this name already exists, will return the same instance\n",
      "RNA_Molecule 2YDH already exists in the species THERMOANAEROBACTER TENGCONGENSIS; not added again\n",
      "Downloading PDB structure '3gx3'...\n",
      "Downloading PDB structure '3v7e'...\n",
      "> note: Species with this name already exists, will return the same instance\n",
      "RNA_Molecule 3V7E already exists in the species CALDANAEROBACTER SUBTERRANEUS SUBSP. TENGCONGENSIS; not added again\n",
      "Downloading PDB structure '3gx5'...\n",
      "Downloading PDB structure '2ygh'...\n",
      "> note: Species with this name already exists, will return the same instance\n",
      "RNA_Molecule 2YGH already exists in the species THERMOANAEROBACTER TENGCONGENSIS; not added again\n",
      "Downloading PDB structure '3v7e'...\n",
      "> note: Species with this name already exists, will return the same instance\n",
      "RNA_Molecule 3V7E already exists in the species CALDANAEROBACTER SUBTERRANEUS SUBSP. TENGCONGENSIS; not added again\n",
      "Downloading PDB structure '5fjc'...\n",
      "> note: Species with this name already exists, will return the same instance\n",
      "RNA_Molecule 5FJC already exists in the species THERMOANAEROBACTER TENGCONGENSIS; not added again\n",
      "Downloading PDB structure '2gis'...\n",
      "Downloading PDB structure '5fk1'...\n",
      "> note: Species with this name already exists, will return the same instance\n",
      "RNA_Molecule 5FK1 already exists in the species THERMOANAEROBACTER TENGCONGENSIS; not added again\n",
      "Downloading PDB structure '3iqp'...\n",
      "Downloading PDB structure '4b5r'...\n",
      "> note: Species with this name already exists, will return the same instance\n",
      "RNA_Molecule 4B5R already exists in the species THERMOANAEROBACTER TENGCONGENSIS; not added again\n",
      "Downloading PDB structure '5fkd'...\n",
      "> note: Species with this name already exists, will return the same instance\n",
      "RNA_Molecule 5FKD already exists in the species THERMOANAEROBACTER TENGCONGENSIS; not added again\n",
      "Downloading PDB structure '3gx7'...\n",
      "Downloading PDB structure '5fk2'...\n",
      "> note: Species with this name already exists, will return the same instance\n",
      "RNA_Molecule 5FK2 already exists in the species THERMOANAEROBACTER TENGCONGENSIS; not added again\n",
      "Downloading PDB structure '7eaf'...\n",
      "> note: Species with this name already exists, will return the same instance\n",
      "RNA_Molecule 7EAF already exists in the species CALDANAEROBACTER SUBTERRANEUS SUBSP. TENGCONGENSIS; not added again\n",
      "Downloading PDB structure '5fk5'...\n",
      "> note: Species with this name already exists, will return the same instance\n",
      "RNA_Molecule 5FK5 already exists in the species THERMOANAEROBACTER TENGCONGENSIS; not added again\n",
      "Downloading PDB structure '5fkg'...\n",
      "> note: Species with this name already exists, will return the same instance\n",
      "RNA_Molecule 5FKG already exists in the species THERMOANAEROBACTER TENGCONGENSIS; not added again\n"
     ]
    }
   ],
   "source": [
    "from utils import get_pdb_ids_from_fam\n",
    "from Families.family import Family\n",
    "\n",
    "pdb_ids=get_pdb_ids_from_fam('SAM')\n",
    "molecules=[]\n",
    "fam=Family(id='RF01510',name='2dG-I ')\n",
    "\n",
    "for pdb_id in pdb_ids:\n",
    "    rna_io=RNA_IO()\n",
    "    rna=rna_io.read(pathify_pdb(pdb_id),format='PDB')\n",
    "    molecules.append(rna)\n"
   ]
  },
  {
   "cell_type": "code",
   "execution_count": 12,
   "metadata": {},
   "outputs": [
    {
     "name": "stdout",
     "output_type": "stream",
     "text": [
      "number of molecules in 2dG-I family: 29\n",
      "type of item ID: 5FK6 Experiment: X-RAY DIFFRACTION THERMOANAEROBACTER TENGCONGENSIS species in molecules: <class 'Structure.RNA_Molecule.RNA_Molecule'>\n",
      "type of item ID: 3GX2 Experiment: X-RAY DIFFRACTION None in molecules: <class 'Structure.RNA_Molecule.RNA_Molecule'>\n",
      "type of item ID: 5FK3 Experiment: X-RAY DIFFRACTION THERMOANAEROBACTER TENGCONGENSIS species in molecules: <class 'Structure.RNA_Molecule.RNA_Molecule'>\n",
      "type of item ID: 5FKF Experiment: X-RAY DIFFRACTION THERMOANAEROBACTER TENGCONGENSIS species in molecules: <class 'Structure.RNA_Molecule.RNA_Molecule'>\n",
      "type of item ID: 4KQY Experiment: X-RAY DIFFRACTION BACILLUS SUBTILIS species in molecules: <class 'Structure.RNA_Molecule.RNA_Molecule'>\n",
      "type of item ID: 3GX6 Experiment: X-RAY DIFFRACTION None in molecules: <class 'Structure.RNA_Molecule.RNA_Molecule'>\n",
      "type of item ID: 5FK4 Experiment: X-RAY DIFFRACTION THERMOANAEROBACTER TENGCONGENSIS species in molecules: <class 'Structure.RNA_Molecule.RNA_Molecule'>\n",
      "type of item ID: 4AOB Experiment: X-RAY DIFFRACTION THERMOANAEROBACTER TENGCONGENSIS species in molecules: <class 'Structure.RNA_Molecule.RNA_Molecule'>\n",
      "type of item ID: 3IQN Experiment: X-RAY DIFFRACTION None in molecules: <class 'Structure.RNA_Molecule.RNA_Molecule'>\n",
      "type of item ID: 5FKE Experiment: X-RAY DIFFRACTION THERMOANAEROBACTER TENGCONGENSIS species in molecules: <class 'Structure.RNA_Molecule.RNA_Molecule'>\n",
      "type of item ID: 5FKH Experiment: X-RAY DIFFRACTION THERMOANAEROBACTER TENGCONGENSIS species in molecules: <class 'Structure.RNA_Molecule.RNA_Molecule'>\n",
      "type of item ID: 3IQR Experiment: X-RAY DIFFRACTION None in molecules: <class 'Structure.RNA_Molecule.RNA_Molecule'>\n",
      "type of item ID: 2YDH Experiment: X-RAY DIFFRACTION THERMOANAEROBACTER TENGCONGENSIS species in molecules: <class 'Structure.RNA_Molecule.RNA_Molecule'>\n",
      "type of item ID: 3GX3 Experiment: X-RAY DIFFRACTION None in molecules: <class 'Structure.RNA_Molecule.RNA_Molecule'>\n",
      "type of item ID: 3V7E Experiment: X-RAY DIFFRACTION CALDANAEROBACTER SUBTERRANEUS SUBSP. TENGCONGENSIS species in molecules: <class 'Structure.RNA_Molecule.RNA_Molecule'>\n",
      "type of item ID: 3GX5 Experiment: X-RAY DIFFRACTION None in molecules: <class 'Structure.RNA_Molecule.RNA_Molecule'>\n",
      "type of item ID: 2YGH Experiment: X-RAY DIFFRACTION THERMOANAEROBACTER TENGCONGENSIS species in molecules: <class 'Structure.RNA_Molecule.RNA_Molecule'>\n",
      "type of item ID: 3V7E Experiment: X-RAY DIFFRACTION CALDANAEROBACTER SUBTERRANEUS SUBSP. TENGCONGENSIS species in molecules: <class 'Structure.RNA_Molecule.RNA_Molecule'>\n",
      "type of item ID: 5FJC Experiment: X-RAY DIFFRACTION THERMOANAEROBACTER TENGCONGENSIS species in molecules: <class 'Structure.RNA_Molecule.RNA_Molecule'>\n",
      "type of item ID: 2GIS Experiment: X-RAY DIFFRACTION None in molecules: <class 'Structure.RNA_Molecule.RNA_Molecule'>\n",
      "type of item ID: 5FK1 Experiment: X-RAY DIFFRACTION THERMOANAEROBACTER TENGCONGENSIS species in molecules: <class 'Structure.RNA_Molecule.RNA_Molecule'>\n",
      "type of item ID: 3IQP Experiment: X-RAY DIFFRACTION None in molecules: <class 'Structure.RNA_Molecule.RNA_Molecule'>\n",
      "type of item ID: 4B5R Experiment: X-RAY DIFFRACTION THERMOANAEROBACTER TENGCONGENSIS species in molecules: <class 'Structure.RNA_Molecule.RNA_Molecule'>\n",
      "type of item ID: 5FKD Experiment: X-RAY DIFFRACTION THERMOANAEROBACTER TENGCONGENSIS species in molecules: <class 'Structure.RNA_Molecule.RNA_Molecule'>\n",
      "type of item ID: 3GX7 Experiment: X-RAY DIFFRACTION None in molecules: <class 'Structure.RNA_Molecule.RNA_Molecule'>\n",
      "type of item ID: 5FK2 Experiment: X-RAY DIFFRACTION THERMOANAEROBACTER TENGCONGENSIS species in molecules: <class 'Structure.RNA_Molecule.RNA_Molecule'>\n",
      "type of item ID: 7EAF Experiment: X-RAY DIFFRACTION CALDANAEROBACTER SUBTERRANEUS SUBSP. TENGCONGENSIS species in molecules: <class 'Structure.RNA_Molecule.RNA_Molecule'>\n",
      "type of item ID: 5FK5 Experiment: X-RAY DIFFRACTION THERMOANAEROBACTER TENGCONGENSIS species in molecules: <class 'Structure.RNA_Molecule.RNA_Molecule'>\n",
      "type of item ID: 5FKG Experiment: X-RAY DIFFRACTION THERMOANAEROBACTER TENGCONGENSIS species in molecules: <class 'Structure.RNA_Molecule.RNA_Molecule'>\n"
     ]
    }
   ],
   "source": [
    "print(f'number of molecules in 2dG-I family: {len(molecules)}')\n",
    "for x in molecules:\n",
    "    print(f'type of item {x} in molecules: {type(x)}')"
   ]
  }
 ],
 "metadata": {
  "kernelspec": {
   "display_name": "base",
   "language": "python",
   "name": "python3"
  },
  "language_info": {
   "codemirror_mode": {
    "name": "ipython",
    "version": 3
   },
   "file_extension": ".py",
   "mimetype": "text/x-python",
   "name": "python",
   "nbconvert_exporter": "python",
   "pygments_lexer": "ipython3",
   "version": "3.12.2"
  }
 },
 "nbformat": 4,
 "nbformat_minor": 2
}
