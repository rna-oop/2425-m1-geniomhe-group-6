{
 "cells": [
  {
   "cell_type": "markdown",
   "metadata": {},
   "source": [
    "# Test"
   ]
  },
  {
   "cell_type": "code",
   "execution_count": 1,
   "metadata": {},
   "outputs": [],
   "source": [
    "# -- necessary setup\n",
    "\n",
    "import os,sys\n",
    "sys.path.append(os.path.abspath('../src'))\n",
    "\n",
    "from IO.RNA_IO import RNA_IO\n",
    "from utils import pathify_pdb"
   ]
  },
  {
   "cell_type": "code",
   "execution_count": 2,
   "metadata": {},
   "outputs": [
    {
     "name": "stdout",
     "output_type": "stream",
     "text": [
      "Downloading PDB structure '7eaf'...\n",
      ">> initializing new species: CALDANAEROBACTER SUBTERRANEUS SUBSP. TENGCONGENSIS <<\n"
     ]
    }
   ],
   "source": [
    "rna_io=RNA_IO()\n",
    "pdb_path=pathify_pdb('7EAF')\n",
    "mol=rna_io.read(pdb_path, \"PDB\",array=True)"
   ]
  },
  {
   "cell_type": "code",
   "execution_count": 6,
   "metadata": {},
   "outputs": [
    {
     "data": {
      "text/plain": [
       "(1, 95, 3)"
      ]
     },
     "execution_count": 6,
     "metadata": {},
     "output_type": "execute_result"
    }
   ],
   "source": [
    "mol.shape"
   ]
  },
  {
   "cell_type": "code",
   "execution_count": null,
   "metadata": {},
   "outputs": [
    {
     "name": "stdout",
     "output_type": "stream",
     "text": [
      "(95, 3)\n"
     ]
    }
   ],
   "source": [
    "outer_array=mol\n",
    "for inner_1 in outer_array:\n",
    "    print(inner_1.shape)\n",
    "\n",
    "# inner_1 here is one sequence of the ndarray (so far the ndarray should include 1seq anyway)"
   ]
  },
  {
   "cell_type": "code",
   "execution_count": 11,
   "metadata": {},
   "outputs": [
    {
     "name": "stdout",
     "output_type": "stream",
     "text": [
      "there are 95 residues in the sequence\n",
      "(3,)\n",
      "(3,)\n",
      "(3,)\n",
      "(3,)\n",
      "(3,)\n",
      "(3,)\n",
      "(3,)\n",
      "(3,)\n",
      "(3,)\n",
      "(3,)\n",
      "(3,)\n",
      "(3,)\n",
      "(3,)\n",
      "(3,)\n",
      "(3,)\n",
      "(3,)\n",
      "(3,)\n",
      "(3,)\n",
      "(3,)\n",
      "(3,)\n",
      "(3,)\n",
      "(3,)\n",
      "(3,)\n",
      "(3,)\n",
      "(3,)\n",
      "(3,)\n",
      "(3,)\n",
      "(3,)\n",
      "(3,)\n",
      "(3,)\n",
      "(3,)\n",
      "(3,)\n",
      "(3,)\n",
      "(3,)\n",
      "(3,)\n",
      "(3,)\n",
      "(3,)\n",
      "(3,)\n",
      "(3,)\n",
      "(3,)\n",
      "(3,)\n",
      "(3,)\n",
      "(3,)\n",
      "(3,)\n",
      "(3,)\n",
      "(3,)\n",
      "(3,)\n",
      "(3,)\n",
      "(3,)\n",
      "(3,)\n",
      "(3,)\n",
      "(3,)\n",
      "(3,)\n",
      "(3,)\n",
      "(3,)\n",
      "(3,)\n",
      "(3,)\n",
      "(3,)\n",
      "(3,)\n",
      "(3,)\n",
      "(3,)\n",
      "(3,)\n",
      "(3,)\n",
      "(3,)\n",
      "(3,)\n",
      "(3,)\n",
      "(3,)\n",
      "(3,)\n",
      "(3,)\n",
      "(3,)\n",
      "(3,)\n",
      "(3,)\n",
      "(3,)\n",
      "(3,)\n",
      "(3,)\n",
      "(3,)\n",
      "(3,)\n",
      "(3,)\n",
      "(3,)\n",
      "(3,)\n",
      "(3,)\n",
      "(3,)\n",
      "(3,)\n",
      "(3,)\n",
      "(3,)\n",
      "(3,)\n",
      "(3,)\n",
      "(3,)\n",
      "(3,)\n",
      "(3,)\n",
      "(3,)\n",
      "(3,)\n",
      "(3,)\n",
      "(3,)\n",
      "(3,)\n"
     ]
    }
   ],
   "source": [
    "print(f'there are {len(inner_1)} residues in the sequence')\n",
    "for inner_2 in inner_1:\n",
    "    print(inner_2.shape)\n",
    "\n",
    "# inner_2 here is one residue of the sequence"
   ]
  },
  {
   "cell_type": "markdown",
   "metadata": {},
   "source": [
    "notice how each residue has 1 3-item vector of coordinates, i.e. each residue is only one atom an not a list of atoms! (vector=atom)"
   ]
  }
 ],
 "metadata": {
  "kernelspec": {
   "display_name": "base",
   "language": "python",
   "name": "python3"
  },
  "language_info": {
   "codemirror_mode": {
    "name": "ipython",
    "version": 3
   },
   "file_extension": ".py",
   "mimetype": "text/x-python",
   "name": "python",
   "nbconvert_exporter": "python",
   "pygments_lexer": "ipython3",
   "version": "3.12.2"
  }
 },
 "nbformat": 4,
 "nbformat_minor": 2
}
