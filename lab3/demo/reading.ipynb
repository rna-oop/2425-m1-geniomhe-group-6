{
 "cells": [
  {
   "cell_type": "markdown",
   "metadata": {},
   "source": [
    "# Lab3"
   ]
  },
  {
   "cell_type": "code",
   "execution_count": 14,
   "metadata": {},
   "outputs": [],
   "source": [
    "# -- necessary setup\n",
    "\n",
    "import os,sys\n",
    "sys.path.append(os.path.abspath('../src'))\n",
    "\n",
    "from IO.RNA_IO import RNA_IO\n",
    "from utils import pathify_pdb"
   ]
  },
  {
   "cell_type": "markdown",
   "metadata": {},
   "source": [
    "## Reading numpy array"
   ]
  },
  {
   "cell_type": "code",
   "execution_count": 15,
   "metadata": {},
   "outputs": [
    {
     "name": "stdout",
     "output_type": "stream",
     "text": [
      "Downloading PDB structure '7eaf'...\n",
      "> note: Species with this name already exists, will return the same instance\n"
     ]
    }
   ],
   "source": [
    "rna_io=RNA_IO()\n",
    "pdb_path=pathify_pdb('7EAF')\n",
    "mol=rna_io.read(pdb_path, \"PDB\",array=True)"
   ]
  },
  {
   "cell_type": "code",
   "execution_count": 16,
   "metadata": {},
   "outputs": [
    {
     "data": {
      "text/plain": [
       "(1, 94, 60, 3)"
      ]
     },
     "execution_count": 16,
     "metadata": {},
     "output_type": "execute_result"
    }
   ],
   "source": [
    "mol.shape"
   ]
  },
  {
   "cell_type": "code",
   "execution_count": 17,
   "metadata": {},
   "outputs": [
    {
     "data": {
      "text/plain": [
       "array([[[[ -9.698,   3.426, -31.854],\n",
       "         [ -8.782,   4.433, -32.44 ],\n",
       "         [ -8.042,   5.072, -31.321],\n",
       "         ...,\n",
       "         [ -1.   ,  -1.   ,  -1.   ],\n",
       "         [ -1.   ,  -1.   ,  -1.   ],\n",
       "         [ -1.   ,  -1.   ,  -1.   ]],\n",
       "\n",
       "        [[-14.635,   3.952, -34.261],\n",
       "         [-15.777,   4.068, -33.319],\n",
       "         [-13.555,   2.957, -34.017],\n",
       "         ...,\n",
       "         [ -1.   ,  -1.   ,  -1.   ],\n",
       "         [ -1.   ,  -1.   ,  -1.   ],\n",
       "         [ -1.   ,  -1.   ,  -1.   ]],\n",
       "\n",
       "        [[-18.319,   1.087, -38.271],\n",
       "         [-19.797,   0.949, -38.166],\n",
       "         [-17.444,   0.445, -37.251],\n",
       "         ...,\n",
       "         [ -1.   ,  -1.   ,  -1.   ],\n",
       "         [ -1.   ,  -1.   ,  -1.   ],\n",
       "         [ -1.   ,  -1.   ,  -1.   ]],\n",
       "\n",
       "        ...,\n",
       "\n",
       "        [[ -5.039,  -3.398, -48.269],\n",
       "         [ -4.529,  -3.22 , -49.657],\n",
       "         [ -4.177,  -3.011, -47.125],\n",
       "         ...,\n",
       "         [ -1.   ,  -1.   ,  -1.   ],\n",
       "         [ -1.   ,  -1.   ,  -1.   ],\n",
       "         [ -1.   ,  -1.   ,  -1.   ]],\n",
       "\n",
       "        [[ -8.11 ,   1.647, -49.983],\n",
       "         [ -8.153,   1.99 , -51.429],\n",
       "         [ -6.779,   1.671, -49.327],\n",
       "         ...,\n",
       "         [ -1.   ,  -1.   ,  -1.   ],\n",
       "         [ -1.   ,  -1.   ,  -1.   ],\n",
       "         [ -1.   ,  -1.   ,  -1.   ]],\n",
       "\n",
       "        [[-10.06 ,   7.177, -49.234],\n",
       "         [-10.769,   8.38 , -49.735],\n",
       "         [ -8.853,   6.683, -49.946],\n",
       "         ...,\n",
       "         [ -1.   ,  -1.   ,  -1.   ],\n",
       "         [ -1.   ,  -1.   ,  -1.   ],\n",
       "         [ -1.   ,  -1.   ,  -1.   ]]]], shape=(1, 94, 60, 3))"
      ]
     },
     "execution_count": 17,
     "metadata": {},
     "output_type": "execute_result"
    }
   ],
   "source": [
    "mol"
   ]
  }
 ],
 "metadata": {
  "kernelspec": {
   "display_name": "base",
   "language": "python",
   "name": "python3"
  },
  "language_info": {
   "codemirror_mode": {
    "name": "ipython",
    "version": 3
   },
   "file_extension": ".py",
   "mimetype": "text/x-python",
   "name": "python",
   "nbconvert_exporter": "python",
   "pygments_lexer": "ipython3",
   "version": "3.12.2"
  }
 },
 "nbformat": 4,
 "nbformat_minor": 2
}
