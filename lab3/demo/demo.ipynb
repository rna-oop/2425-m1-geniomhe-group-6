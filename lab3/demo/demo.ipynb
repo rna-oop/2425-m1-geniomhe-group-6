{
 "cells": [
  {
   "cell_type": "markdown",
   "metadata": {},
   "source": [
    "# Lab 2: demo 📓"
   ]
  },
  {
   "cell_type": "markdown",
   "metadata": {},
   "source": [
    "The purpose of this lab is to add the ability to decouple parsing/writing from creating the `RNA_Molecule` object. This is an encapsulatd step that will not change the way the user would interact with this utility, but rather make the interface more flexible and less susceptible to errors coming from changes in the future."
   ]
  },
  {
   "cell_type": "code",
   "execution_count": 13,
   "metadata": {},
   "outputs": [],
   "source": [
    "# -- necessary setup\n",
    "\n",
    "import os,sys\n",
    "sys.path.append(os.path.abspath('../src'))\n",
    "\n",
    "from IO.RNA_IO import RNA_IO\n",
    "from utils import pathify_pdb"
   ]
  },
  {
   "cell_type": "markdown",
   "metadata": {},
   "source": [
    "## Reading from PDB File"
   ]
  },
  {
   "cell_type": "code",
   "execution_count": 14,
   "metadata": {},
   "outputs": [
    {
     "name": "stdout",
     "output_type": "stream",
     "text": [
      "Downloading PDB structure '7eaf'...\n",
      "> note: Species with this name already exists, will return the same instance\n",
      "RNA_Molecule 7EAF already exists in the species CALDANAEROBACTER SUBTERRANEUS SUBSP. TENGCONGENSIS; not added again\n"
     ]
    }
   ],
   "source": [
    "rna_io=RNA_IO()\n",
    "pdb_path=pathify_pdb('7EAF')\n",
    "mol=rna_io.read(pdb_path, \"PDB\")"
   ]
  },
  {
   "cell_type": "markdown",
   "metadata": {},
   "source": [
    "##  Writing the Output to a PDB-like format File"
   ]
  },
  {
   "cell_type": "code",
   "execution_count": 21,
   "metadata": {},
   "outputs": [
    {
     "name": "stdout",
     "output_type": "stream",
     "text": [
      "RNA molecule written to demo.pdb\n"
     ]
    }
   ],
   "source": [
    "rna_io.write(mol, \"demo.pdb\",'PDB')\n",
    "\n",
    "# with open(\"demo.pdb\", \"r\") as f:\n",
    "#     print(f.read())"
   ]
  },
  {
   "cell_type": "markdown",
   "metadata": {},
   "source": [
    "To check the file content, check the file [`demo.pdb`](./demo.pdb) in the same directory as this notebook (demo/)"
   ]
  },
  {
   "cell_type": "markdown",
   "metadata": {},
   "source": [
    "##  Reading from the Written File"
   ]
  },
  {
   "cell_type": "code",
   "execution_count": 16,
   "metadata": {},
   "outputs": [
    {
     "name": "stdout",
     "output_type": "stream",
     "text": [
      "> note: Species with this name already exists, will return the same instance\n",
      "RNA_Molecule 7EAF already exists in the species CALDANAEROBACTER SUBTERRANEUS SUBSP. TENGCONGENSIS; not added again\n"
     ]
    }
   ],
   "source": [
    "mol1=rna_io.read(\"demo.pdb\", \"PDB\")"
   ]
  },
  {
   "cell_type": "markdown",
   "metadata": {},
   "source": [
    "##  Writing again the Content to another File \n",
    "To verify the integrity of the reading and writing functions, the content will be written to a second file. By comparing the two files, we can ensure that the content is identical, confirming that the functions are correctly implemented and that the PDB format is followed accurately."
   ]
  },
  {
   "cell_type": "code",
   "execution_count": 20,
   "metadata": {},
   "outputs": [
    {
     "name": "stdout",
     "output_type": "stream",
     "text": [
      "RNA molecule written to demo1.pdb\n"
     ]
    }
   ],
   "source": [
    "rna_io.write(mol1, \"demo1.pdb\",'PDB')\n",
    "\n",
    "# with open(\"demo1.pdb\", \"r\") as f:\n",
    "#     print(f.read())"
   ]
  },
  {
   "cell_type": "markdown",
   "metadata": {},
   "source": [
    "Instead of printing, checkout the file content in [`demo1.pdb`](./demo1.pdb) file found in the current directory."
   ]
  },
  {
   "cell_type": "markdown",
   "metadata": {},
   "source": [
    "## Coarse-Grained 3D Representation\n",
    "\n"
   ]
  },
  {
   "cell_type": "code",
   "execution_count": 18,
   "metadata": {},
   "outputs": [
    {
     "name": "stdout",
     "output_type": "stream",
     "text": [
      "> note: Species with this name already exists, will return the same instance\n",
      "RNA_Molecule 7EAF already exists in the species CALDANAEROBACTER SUBTERRANEUS SUBSP. TENGCONGENSIS; not added again\n",
      "RNA molecule written to demo_cg.pdb\n"
     ]
    }
   ],
   "source": [
    "cg_mol=rna_io.read(pdb_path, \"PDB\", coarse_grained=True, atom_name=\"C1'\") #atom_name is optional, default is \"C1'\"\n",
    "rna_io.write(cg_mol, \"demo_cg.pdb\",'PDB')"
   ]
  },
  {
   "cell_type": "markdown",
   "metadata": {},
   "source": [
    "## Reading other PDB Entries"
   ]
  },
  {
   "cell_type": "code",
   "execution_count": 19,
   "metadata": {},
   "outputs": [
    {
     "name": "stdout",
     "output_type": "stream",
     "text": [
      "Warning: Family object created without database connection, creating a new family with provided id and name\n",
      "Family with this id already exists, will link it to the existing family\n",
      "Downloading PDB structure '5fk6'...\n",
      "> note: Species with this name already exists, will return the same instance\n",
      "RNA_Molecule 5FK6 already exists in the species THERMOANAEROBACTER TENGCONGENSIS; not added again\n",
      "Downloading PDB structure '3gx2'...\n",
      "Downloading PDB structure '5fk3'...\n",
      "> note: Species with this name already exists, will return the same instance\n",
      "RNA_Molecule 5FK3 already exists in the species THERMOANAEROBACTER TENGCONGENSIS; not added again\n",
      "Downloading PDB structure '5fkf'...\n",
      "> note: Species with this name already exists, will return the same instance\n",
      "RNA_Molecule 5FKF already exists in the species THERMOANAEROBACTER TENGCONGENSIS; not added again\n",
      "Downloading PDB structure '4kqy'...\n",
      "> note: Species with this name already exists, will return the same instance\n",
      "RNA_Molecule 4KQY already exists in the species BACILLUS SUBTILIS; not added again\n",
      "Downloading PDB structure '3gx6'...\n",
      "Downloading PDB structure '5fk4'...\n",
      "> note: Species with this name already exists, will return the same instance\n",
      "RNA_Molecule 5FK4 already exists in the species THERMOANAEROBACTER TENGCONGENSIS; not added again\n",
      "Downloading PDB structure '4aob'...\n",
      "> note: Species with this name already exists, will return the same instance\n",
      "RNA_Molecule 4AOB already exists in the species THERMOANAEROBACTER TENGCONGENSIS; not added again\n",
      "Downloading PDB structure '3iqn'...\n",
      "Downloading PDB structure '5fke'...\n",
      "> note: Species with this name already exists, will return the same instance\n",
      "RNA_Molecule 5FKE already exists in the species THERMOANAEROBACTER TENGCONGENSIS; not added again\n",
      "Downloading PDB structure '5fkh'...\n",
      "> note: Species with this name already exists, will return the same instance\n",
      "RNA_Molecule 5FKH already exists in the species THERMOANAEROBACTER TENGCONGENSIS; not added again\n",
      "Downloading PDB structure '3iqr'...\n",
      "Downloading PDB structure '2ydh'...\n",
      "> note: Species with this name already exists, will return the same instance\n",
      "RNA_Molecule 2YDH already exists in the species THERMOANAEROBACTER TENGCONGENSIS; not added again\n",
      "Downloading PDB structure '3gx3'...\n",
      "Downloading PDB structure '3v7e'...\n",
      "> note: Species with this name already exists, will return the same instance\n",
      "RNA_Molecule 3V7E already exists in the species CALDANAEROBACTER SUBTERRANEUS SUBSP. TENGCONGENSIS; not added again\n",
      "Downloading PDB structure '3gx5'...\n",
      "Downloading PDB structure '2ygh'...\n",
      "> note: Species with this name already exists, will return the same instance\n",
      "RNA_Molecule 2YGH already exists in the species THERMOANAEROBACTER TENGCONGENSIS; not added again\n",
      "Downloading PDB structure '3v7e'...\n",
      "> note: Species with this name already exists, will return the same instance\n",
      "RNA_Molecule 3V7E already exists in the species CALDANAEROBACTER SUBTERRANEUS SUBSP. TENGCONGENSIS; not added again\n",
      "Downloading PDB structure '5fjc'...\n",
      "> note: Species with this name already exists, will return the same instance\n",
      "RNA_Molecule 5FJC already exists in the species THERMOANAEROBACTER TENGCONGENSIS; not added again\n",
      "Downloading PDB structure '2gis'...\n",
      "Downloading PDB structure '5fk1'...\n",
      "> note: Species with this name already exists, will return the same instance\n",
      "RNA_Molecule 5FK1 already exists in the species THERMOANAEROBACTER TENGCONGENSIS; not added again\n",
      "Downloading PDB structure '3iqp'...\n",
      "Downloading PDB structure '4b5r'...\n",
      "> note: Species with this name already exists, will return the same instance\n",
      "RNA_Molecule 4B5R already exists in the species THERMOANAEROBACTER TENGCONGENSIS; not added again\n",
      "Downloading PDB structure '5fkd'...\n",
      "> note: Species with this name already exists, will return the same instance\n",
      "RNA_Molecule 5FKD already exists in the species THERMOANAEROBACTER TENGCONGENSIS; not added again\n",
      "Downloading PDB structure '3gx7'...\n",
      "Downloading PDB structure '5fk2'...\n",
      "> note: Species with this name already exists, will return the same instance\n",
      "RNA_Molecule 5FK2 already exists in the species THERMOANAEROBACTER TENGCONGENSIS; not added again\n",
      "Downloading PDB structure '7eaf'...\n",
      "> note: Species with this name already exists, will return the same instance\n",
      "RNA_Molecule 7EAF already exists in the species CALDANAEROBACTER SUBTERRANEUS SUBSP. TENGCONGENSIS; not added again\n",
      "Downloading PDB structure '5fk5'...\n",
      "> note: Species with this name already exists, will return the same instance\n",
      "RNA_Molecule 5FK5 already exists in the species THERMOANAEROBACTER TENGCONGENSIS; not added again\n",
      "Downloading PDB structure '5fkg'...\n",
      "> note: Species with this name already exists, will return the same instance\n",
      "RNA_Molecule 5FKG already exists in the species THERMOANAEROBACTER TENGCONGENSIS; not added again\n"
     ]
    }
   ],
   "source": [
    "from utils import get_pdb_ids_from_fam\n",
    "from Families.family import Family\n",
    "\n",
    "pdb_ids=get_pdb_ids_from_fam('SAM')\n",
    "molecules=[]\n",
    "fam=Family(id='RF01510',name='2dG-I ')\n",
    "\n",
    "for pdb_id in pdb_ids:\n",
    "    rna_io=RNA_IO()\n",
    "    rna=rna_io.read(pathify_pdb(pdb_id),format='PDB')\n",
    "    molecules.append(rna)\n"
   ]
  },
  {
   "cell_type": "code",
   "execution_count": 12,
   "metadata": {},
   "outputs": [
    {
     "name": "stdout",
     "output_type": "stream",
     "text": [
      "number of molecules in 2dG-I family: 29\n",
      "type of item ID: 5FK6 Experiment: X-RAY DIFFRACTION THERMOANAEROBACTER TENGCONGENSIS species in molecules: <class 'Structure.RNA_Molecule.RNA_Molecule'>\n",
      "type of item ID: 3GX2 Experiment: X-RAY DIFFRACTION None in molecules: <class 'Structure.RNA_Molecule.RNA_Molecule'>\n",
      "type of item ID: 5FK3 Experiment: X-RAY DIFFRACTION THERMOANAEROBACTER TENGCONGENSIS species in molecules: <class 'Structure.RNA_Molecule.RNA_Molecule'>\n",
      "type of item ID: 5FKF Experiment: X-RAY DIFFRACTION THERMOANAEROBACTER TENGCONGENSIS species in molecules: <class 'Structure.RNA_Molecule.RNA_Molecule'>\n",
      "type of item ID: 4KQY Experiment: X-RAY DIFFRACTION BACILLUS SUBTILIS species in molecules: <class 'Structure.RNA_Molecule.RNA_Molecule'>\n",
      "type of item ID: 3GX6 Experiment: X-RAY DIFFRACTION None in molecules: <class 'Structure.RNA_Molecule.RNA_Molecule'>\n",
      "type of item ID: 5FK4 Experiment: X-RAY DIFFRACTION THERMOANAEROBACTER TENGCONGENSIS species in molecules: <class 'Structure.RNA_Molecule.RNA_Molecule'>\n",
      "type of item ID: 4AOB Experiment: X-RAY DIFFRACTION THERMOANAEROBACTER TENGCONGENSIS species in molecules: <class 'Structure.RNA_Molecule.RNA_Molecule'>\n",
      "type of item ID: 3IQN Experiment: X-RAY DIFFRACTION None in molecules: <class 'Structure.RNA_Molecule.RNA_Molecule'>\n",
      "type of item ID: 5FKE Experiment: X-RAY DIFFRACTION THERMOANAEROBACTER TENGCONGENSIS species in molecules: <class 'Structure.RNA_Molecule.RNA_Molecule'>\n",
      "type of item ID: 5FKH Experiment: X-RAY DIFFRACTION THERMOANAEROBACTER TENGCONGENSIS species in molecules: <class 'Structure.RNA_Molecule.RNA_Molecule'>\n",
      "type of item ID: 3IQR Experiment: X-RAY DIFFRACTION None in molecules: <class 'Structure.RNA_Molecule.RNA_Molecule'>\n",
      "type of item ID: 2YDH Experiment: X-RAY DIFFRACTION THERMOANAEROBACTER TENGCONGENSIS species in molecules: <class 'Structure.RNA_Molecule.RNA_Molecule'>\n",
      "type of item ID: 3GX3 Experiment: X-RAY DIFFRACTION None in molecules: <class 'Structure.RNA_Molecule.RNA_Molecule'>\n",
      "type of item ID: 3V7E Experiment: X-RAY DIFFRACTION CALDANAEROBACTER SUBTERRANEUS SUBSP. TENGCONGENSIS species in molecules: <class 'Structure.RNA_Molecule.RNA_Molecule'>\n",
      "type of item ID: 3GX5 Experiment: X-RAY DIFFRACTION None in molecules: <class 'Structure.RNA_Molecule.RNA_Molecule'>\n",
      "type of item ID: 2YGH Experiment: X-RAY DIFFRACTION THERMOANAEROBACTER TENGCONGENSIS species in molecules: <class 'Structure.RNA_Molecule.RNA_Molecule'>\n",
      "type of item ID: 3V7E Experiment: X-RAY DIFFRACTION CALDANAEROBACTER SUBTERRANEUS SUBSP. TENGCONGENSIS species in molecules: <class 'Structure.RNA_Molecule.RNA_Molecule'>\n",
      "type of item ID: 5FJC Experiment: X-RAY DIFFRACTION THERMOANAEROBACTER TENGCONGENSIS species in molecules: <class 'Structure.RNA_Molecule.RNA_Molecule'>\n",
      "type of item ID: 2GIS Experiment: X-RAY DIFFRACTION None in molecules: <class 'Structure.RNA_Molecule.RNA_Molecule'>\n",
      "type of item ID: 5FK1 Experiment: X-RAY DIFFRACTION THERMOANAEROBACTER TENGCONGENSIS species in molecules: <class 'Structure.RNA_Molecule.RNA_Molecule'>\n",
      "type of item ID: 3IQP Experiment: X-RAY DIFFRACTION None in molecules: <class 'Structure.RNA_Molecule.RNA_Molecule'>\n",
      "type of item ID: 4B5R Experiment: X-RAY DIFFRACTION THERMOANAEROBACTER TENGCONGENSIS species in molecules: <class 'Structure.RNA_Molecule.RNA_Molecule'>\n",
      "type of item ID: 5FKD Experiment: X-RAY DIFFRACTION THERMOANAEROBACTER TENGCONGENSIS species in molecules: <class 'Structure.RNA_Molecule.RNA_Molecule'>\n",
      "type of item ID: 3GX7 Experiment: X-RAY DIFFRACTION None in molecules: <class 'Structure.RNA_Molecule.RNA_Molecule'>\n",
      "type of item ID: 5FK2 Experiment: X-RAY DIFFRACTION THERMOANAEROBACTER TENGCONGENSIS species in molecules: <class 'Structure.RNA_Molecule.RNA_Molecule'>\n",
      "type of item ID: 7EAF Experiment: X-RAY DIFFRACTION CALDANAEROBACTER SUBTERRANEUS SUBSP. TENGCONGENSIS species in molecules: <class 'Structure.RNA_Molecule.RNA_Molecule'>\n",
      "type of item ID: 5FK5 Experiment: X-RAY DIFFRACTION THERMOANAEROBACTER TENGCONGENSIS species in molecules: <class 'Structure.RNA_Molecule.RNA_Molecule'>\n",
      "type of item ID: 5FKG Experiment: X-RAY DIFFRACTION THERMOANAEROBACTER TENGCONGENSIS species in molecules: <class 'Structure.RNA_Molecule.RNA_Molecule'>\n"
     ]
    }
   ],
   "source": [
    "print(f'number of molecules in 2dG-I family: {len(molecules)}')\n",
    "for x in molecules:\n",
    "    print(f'type of item {x} in molecules: {type(x)}')"
   ]
  }
 ],
 "metadata": {
  "kernelspec": {
   "display_name": "base",
   "language": "python",
   "name": "python3"
  },
  "language_info": {
   "codemirror_mode": {
    "name": "ipython",
    "version": 3
   },
   "file_extension": ".py",
   "mimetype": "text/x-python",
   "name": "python",
   "nbconvert_exporter": "python",
   "pygments_lexer": "ipython3",
   "version": "3.12.2"
  }
 },
 "nbformat": 4,
 "nbformat_minor": 2
}
