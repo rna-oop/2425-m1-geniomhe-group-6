{
 "cells": [
  {
   "cell_type": "markdown",
   "metadata": {},
   "source": [
    "# Lab3"
   ]
  },
  {
   "cell_type": "code",
   "execution_count": 1,
   "metadata": {},
   "outputs": [
    {
     "name": "stdout",
     "output_type": "stream",
     "text": [
      "RF00162\n"
     ]
    }
   ],
   "source": [
    "# -- necessary setup\n",
    "\n",
    "import os,sys\n",
    "sys.path.append(os.path.abspath('../src'))\n",
    "\n",
    "from IO.RNA_IO import RNA_IO\n",
    "from utils import pathify_pdb"
   ]
  },
  {
   "cell_type": "markdown",
   "metadata": {},
   "source": [
    "## Writing XML"
   ]
  },
  {
   "cell_type": "markdown",
   "metadata": {},
   "source": [
    "### From object"
   ]
  },
  {
   "cell_type": "code",
   "execution_count": 2,
   "metadata": {},
   "outputs": [
    {
     "name": "stdout",
     "output_type": "stream",
     "text": [
      "Downloading PDB structure '7eaf'...\n",
      ">> initializing new species: CALDANAEROBACTER SUBTERRANEUS SUBSP. TENGCONGENSIS <<\n"
     ]
    }
   ],
   "source": [
    "# --first reading an object to test writing it\n",
    "rna_io=RNA_IO()\n",
    "pdb_path=pathify_pdb('7EAF')\n",
    "mol=rna_io.read(pdb_path, \"PDB\",array=False)"
   ]
  },
  {
   "cell_type": "code",
   "execution_count": 3,
   "metadata": {},
   "outputs": [],
   "source": [
    "rna_io.write(mol, \"7eaf_object.xml\",'PDBML') #can also put 3rd arg as XML"
   ]
  },
  {
   "cell_type": "code",
   "execution_count": 4,
   "metadata": {},
   "outputs": [
    {
     "name": "stdout",
     "output_type": "stream",
     "text": [
      "<?xml version=\"1.0\" encoding=\"UTF-8\" ?>\n",
      "<PDBx:datablock xmlns:PDBx=\"http://pdbml.pdb.org/schema/pdbx-v50.xsd\" xmlns:xsi=\"http://www.w3.org/2001/XMLSchema-instance\" datablockName=\"7EAF\" xsi:schemaLocation=\"http://pdbml.pdb.org/schema/pdbx-v50.xsd pdbx-v50.xsd\">\n",
      "\t<PDBx:atom_siteCategory>\n",
      "\t\t<PDBx:atom_site id=\"1\">\n",
      "\t\t\t<PDBx:B_iso_or_equiv>110.87</PDBx:B_iso_or_equiv>\n",
      "\t\t\t<PDBx:Cartn_x>-9.698</PDBx:Cartn_x>\n",
      "\t\t\t<PDBx:Cartn_y>3.426</PDBx:Cartn_y>\n",
      "\t\t\t<PDBx:Cartn_z>-31.854</PDBx:Cartn_z>\n",
      "\t\t\t<PDBx:auth_asym_id>A</PDBx:auth_asym_id>\n",
      "\t\t\t<PDBx:auth_atom_id>OP3</PDBx:auth_atom_id>\n",
      "\t\t\t<PDBx:auth_comp_id>G</PDBx:auth_comp_id>\n",
      "\t\t\t<PDBx:auth_seq_id>1</PDBx:auth_seq_id>\n",
      "\t\t\t<PDBx:group_PDB>ATOM</PDBx:group_PDB>\n",
      "\t\t\t<PDBx:label_alt_id xsi:nil=\"true\"/>\n",
      "\t\t\t<PDBx:label_asym_id>A</PDBx:label_asym_id>\n",
      "\t\t\t<PDBx:label_atom_id>OP3</PDBx:label_atom_id>\n",
      "\t\t\t<PDBx:label_comp_id>G</PDBx:label_comp_id>\n",
      "\t\t\t<PDBx:label_entity_id>1</PDBx:label_entity_id>\n",
      "\t\t\t<PDBx:label_seq_id>1</PDBx:label_seq_id>\n",
      "\t\t\t<PDBx:occupancy>1.0</PDBx:occupancy>\n"
     ]
    }
   ],
   "source": [
    "!head 7eaf_object.xml -n 20"
   ]
  }
 ],
 "metadata": {
  "kernelspec": {
   "display_name": "base",
   "language": "python",
   "name": "python3"
  },
  "language_info": {
   "codemirror_mode": {
    "name": "ipython",
    "version": 3
   },
   "file_extension": ".py",
   "mimetype": "text/x-python",
   "name": "python",
   "nbconvert_exporter": "python",
   "pygments_lexer": "ipython3",
   "version": "3.12.2"
  }
 },
 "nbformat": 4,
 "nbformat_minor": 2
}
