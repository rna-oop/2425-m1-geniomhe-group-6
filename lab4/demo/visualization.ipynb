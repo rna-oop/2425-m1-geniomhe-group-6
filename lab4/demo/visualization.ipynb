{
 "cells": [
  {
   "cell_type": "markdown",
   "metadata": {},
   "source": [
    "# Lab4 demo: visualization"
   ]
  },
  {
   "cell_type": "markdown",
   "metadata": {},
   "source": [
    "set-up"
   ]
  },
  {
   "cell_type": "code",
   "execution_count": 1,
   "metadata": {},
   "outputs": [
    {
     "name": "stdout",
     "output_type": "stream",
     "text": [
      "RF00162\n",
      "Downloading PDB structure '3cc2'...\n"
     ]
    }
   ],
   "source": [
    "import sys,os\n",
    "sys.path.append(os.path.abspath('../src'))\n",
    "\n",
    "from Transformations.transformers.Kmers import Kmers\n",
    "from Transformations.transformers.Distogram import Distogram\n",
    "from Transformations.transformers.OneHotEncoding import OneHotEncoding\n",
    "import numpy as np\n",
    "\n",
    "from IO.RNA_IO import RNA_IO\n",
    "\n",
    "from viz import *\n",
    "\n",
    "from utils import pathify_pdb\n",
    "\n",
    "rna_io=RNA_IO()\n",
    "pdb_path=pathify_pdb(\"3cc2\")\n",
    "X,y= rna_io.read(pdb_path, \"PDB\")"
   ]
  },
  {
   "cell_type": "markdown",
   "metadata": {},
   "source": [
    "## One-Hot Encoding"
   ]
  },
  {
   "cell_type": "code",
   "execution_count": null,
   "metadata": {},
   "outputs": [],
   "source": [
    "help(view_one_hot)"
   ]
  },
  {
   "cell_type": "markdown",
   "metadata": {},
   "source": [
    "### raw sequence"
   ]
  },
  {
   "cell_type": "markdown",
   "metadata": {},
   "source": [
    "This is equivalent to having a kmer=1 transformed dataset"
   ]
  },
  {
   "cell_type": "code",
   "execution_count": null,
   "metadata": {},
   "outputs": [],
   "source": [
    "X_encoded,y=OneHotEncoding().transform(X,y)\n",
    "X.shape,X_encoded.shape"
   ]
  },
  {
   "cell_type": "code",
   "execution_count": null,
   "metadata": {},
   "outputs": [],
   "source": [
    "view_one_hot(X_encoded, structure_no=0,plot=False,height=700, width=400,save=True)"
   ]
  },
  {
   "cell_type": "markdown",
   "metadata": {},
   "source": [
    "### on kmer=3\n",
    "\n"
   ]
  },
  {
   "cell_type": "code",
   "execution_count": null,
   "metadata": {},
   "outputs": [],
   "source": [
    "X_kmers,y=Kmers(k=3).transform(X,y)\n",
    "X_kmers_encoded,y=OneHotEncoding().transform(X_kmers,y)\n",
    "X.shape,X_kmers.shape,X_kmers_encoded.shape"
   ]
  },
  {
   "cell_type": "code",
   "execution_count": null,
   "metadata": {},
   "outputs": [],
   "source": [
    "view_one_hot(X_kmers_encoded,plot=False,height=1000, width=700,save=True)"
   ]
  },
  {
   "cell_type": "markdown",
   "metadata": {},
   "source": [
    "## Distogram"
   ]
  },
  {
   "cell_type": "code",
   "execution_count": 2,
   "metadata": {},
   "outputs": [
    {
     "data": {
      "text/plain": [
       "((1, 2914, 46, 3), (1, 2914, 2914, 3))"
      ]
     },
     "execution_count": 2,
     "metadata": {},
     "output_type": "execute_result"
    }
   ],
   "source": [
    "X,y_transformed=Distogram().transform(X,y,[1,3,5])\n",
    "y.shape, y_transformed['Distogram'].shape"
   ]
  },
  {
   "cell_type": "code",
   "execution_count": null,
   "metadata": {},
   "outputs": [],
   "source": [
    "y_transformed['Distogram'].shape"
   ]
  },
  {
   "cell_type": "code",
   "execution_count": 3,
   "metadata": {},
   "outputs": [
    {
     "data": {
      "text/plain": [
       "array([[[[  0.        ,   0.        ,   0.        ],\n",
       "         [  4.87287687,   5.34475257,   4.01528816],\n",
       "         [  2.84122579,   5.88439343,   4.07617713],\n",
       "         ...,\n",
       "         [158.38947484, 155.26524044, 153.91891822],\n",
       "         [152.84890318, 152.0208779 , 151.91542454],\n",
       "         [152.02475636, 149.63917691, 150.35712026]],\n",
       "\n",
       "        [[  4.87287687,   5.34475257,   4.01528816],\n",
       "         [  0.        ,   0.        ,   0.        ],\n",
       "         [  4.77411573,   4.81899844,   5.37479702],\n",
       "         ...,\n",
       "         [155.93608269, 157.33186025, 157.02966109],\n",
       "         [150.32256152, 153.97907197, 154.94189105],\n",
       "         [149.42230779, 151.47641941, 153.31581301]],\n",
       "\n",
       "        [[  2.84122579,   5.88439343,   4.07617713],\n",
       "         [  4.77411573,   4.81899844,   5.37479702],\n",
       "         [  0.        ,   0.        ,   0.        ],\n",
       "         ...,\n",
       "         [159.41322729, 158.36725365, 154.36404718],\n",
       "         [153.87953741, 155.12606476, 152.41708198],\n",
       "         [153.05805498, 152.77270269, 151.00084278]],\n",
       "\n",
       "        ...,\n",
       "\n",
       "        [[158.38947484, 155.26524044, 153.91891822],\n",
       "         [155.93608269, 157.33186025, 157.02966109],\n",
       "         [159.41322729, 158.36725365, 154.36404718],\n",
       "         ...,\n",
       "         [  0.        ,   0.        ,   0.        ],\n",
       "         [  6.78339539,   5.29887252,   5.94403011],\n",
       "         [ 10.06209779,  10.90690336,  12.38983474]],\n",
       "\n",
       "        [[152.84890318, 152.0208779 , 151.91542454],\n",
       "         [150.32256152, 153.97907197, 154.94189105],\n",
       "         [153.87953741, 155.12606476, 152.41708198],\n",
       "         ...,\n",
       "         [  6.78339539,   5.29887252,   5.94403011],\n",
       "         [  0.        ,   0.        ,   0.        ],\n",
       "         [  3.91187027,   5.68874424,   6.86805555]],\n",
       "\n",
       "        [[152.02475636, 149.63917691, 150.35712026],\n",
       "         [149.42230779, 151.47641941, 153.31581301],\n",
       "         [153.05805498, 152.77270269, 151.00084278],\n",
       "         ...,\n",
       "         [ 10.06209779,  10.90690336,  12.38983474],\n",
       "         [  3.91187027,   5.68874424,   6.86805555],\n",
       "         [  0.        ,   0.        ,   0.        ]]]])"
      ]
     },
     "execution_count": 3,
     "metadata": {},
     "output_type": "execute_result"
    }
   ],
   "source": [
    "y_transformed['Distogram']"
   ]
  },
  {
   "cell_type": "code",
   "execution_count": null,
   "metadata": {},
   "outputs": [],
   "source": [
    "help(view_distogram)"
   ]
  },
  {
   "cell_type": "code",
   "execution_count": null,
   "metadata": {},
   "outputs": [],
   "source": [
    "view_distogram(y_transformed, structure_no=0,plot=False,save=False)"
   ]
  }
 ],
 "metadata": {
  "kernelspec": {
   "display_name": "base",
   "language": "python",
   "name": "python3"
  },
  "language_info": {
   "codemirror_mode": {
    "name": "ipython",
    "version": 3
   },
   "file_extension": ".py",
   "mimetype": "text/x-python",
   "name": "python",
   "nbconvert_exporter": "python",
   "pygments_lexer": "ipython3",
   "version": "3.12.2"
  }
 },
 "nbformat": 4,
 "nbformat_minor": 2
}
