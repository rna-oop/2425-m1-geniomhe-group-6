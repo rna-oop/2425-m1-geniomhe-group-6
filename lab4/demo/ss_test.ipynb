{
 "cells": [
  {
   "cell_type": "code",
   "execution_count": null,
   "metadata": {},
   "outputs": [],
   "source": [
    "# -- necessary setup\n",
    "\n",
    "import os,sys\n",
    "sys.path.append(os.path.abspath('../src'))\n",
    "\n",
    "from IO.RNA_IO import RNA_IO\n",
    "from utils import parse_pdb_files\n",
    "from Transformations.transformers.SecondaryStructure import SecondaryStructure"
   ]
  },
  {
   "cell_type": "code",
   "execution_count": 19,
   "metadata": {},
   "outputs": [
    {
     "name": "stdout",
     "output_type": "stream",
     "text": [
      "Downloading PDB structure '7eaf'...\n"
     ]
    }
   ],
   "source": [
    "X, Y= parse_pdb_files(['7eaf'])"
   ]
  },
  {
   "cell_type": "code",
   "execution_count": 20,
   "metadata": {},
   "outputs": [
    {
     "name": "stdout",
     "output_type": "stream",
     "text": [
      "(1, 94)\n",
      "(1, 94, 2, 3)\n",
      ".(((.((..((.(.(((((.(.(((.(()()(.)(.)).(()((...(().(.)..(()).()(....(()(()...)..(.).).)(.)()).\n"
     ]
    }
   ],
   "source": [
    "ss1 = SecondaryStructure()\n",
    "X1, Y1= ss1.transform(X, Y)\n",
    "print(X1.shape)\n",
    "print(Y1[\"Original\"].shape)\n",
    "print(\"\".join(Y1[\"SecondaryStructure\"][0]))"
   ]
  },
  {
   "cell_type": "code",
   "execution_count": 21,
   "metadata": {},
   "outputs": [
    {
     "name": "stdout",
     "output_type": "stream",
     "text": [
      "(1, 94)\n",
      "(1, 94, 2, 3)\n",
      "..(((()(..)).))..().(((.)((())())((.)(((())(..((.)..()))(()(.((((((())()))))(()))))..)()).))).\n"
     ]
    }
   ],
   "source": [
    "ss2 = SecondaryStructure(nussinov=True)\n",
    "X2, Y2= ss2.transform(X1, Y1)\n",
    "print(X2.shape)\n",
    "print(Y2[\"Original\"].shape)\n",
    "print(\"\".join(Y2[\"SecondaryStructure\"][0]))\n"
   ]
  },
  {
   "cell_type": "code",
   "execution_count": 22,
   "metadata": {},
   "outputs": [
    {
     "ename": "ModuleNotFoundError",
     "evalue": "No module named 'viennarna'",
     "output_type": "error",
     "traceback": [
      "\u001b[0;31m---------------------------------------------------------------------------\u001b[0m",
      "\u001b[0;31mModuleNotFoundError\u001b[0m                       Traceback (most recent call last)",
      "Cell \u001b[0;32mIn[22], line 1\u001b[0m\n\u001b[0;32m----> 1\u001b[0m \u001b[38;5;28;01mfrom\u001b[39;00m\u001b[38;5;250m \u001b[39m\u001b[38;5;21;01mviennarna\u001b[39;00m\u001b[38;5;250m \u001b[39m\u001b[38;5;28;01mimport\u001b[39;00m RNA\n\u001b[1;32m      2\u001b[0m \u001b[38;5;28;01mimport\u001b[39;00m\u001b[38;5;250m \u001b[39m\u001b[38;5;21;01mmatplotlib\u001b[39;00m\u001b[38;5;21;01m.\u001b[39;00m\u001b[38;5;21;01mpyplot\u001b[39;00m\u001b[38;5;250m \u001b[39m\u001b[38;5;28;01mas\u001b[39;00m\u001b[38;5;250m \u001b[39m\u001b[38;5;21;01mplt\u001b[39;00m\n\u001b[1;32m      4\u001b[0m \u001b[38;5;66;03m#Visualize the structure with RNAplot\u001b[39;00m\n",
      "\u001b[0;31mModuleNotFoundError\u001b[0m: No module named 'viennarna'"
     ]
    }
   ],
   "source": [
    "from viennarna import RNA\n",
    "import matplotlib.pyplot as plt\n",
    "\n",
    "#Visualize the structure with RNAplot\n",
    "fig, ax = plt.subplots()\n",
    "ax.set_title(f\"RNA Secondary Structure: {X}\")\n",
    "RNA.plot(X, X1, ax=ax)\n",
    "plt.show()"
   ]
  },
  {
   "cell_type": "code",
   "execution_count": null,
   "metadata": {},
   "outputs": [],
   "source": [
    "fig, ax = plt.subplots()\n",
    "ax.set_title(f\"RNA Secondary Structure: {X}\")\n",
    "RNA.plot(X, X2, ax=ax)\n",
    "plt.show()"
   ]
  }
 ],
 "metadata": {
  "kernelspec": {
   "display_name": "Python 3",
   "language": "python",
   "name": "python3"
  },
  "language_info": {
   "codemirror_mode": {
    "name": "ipython",
    "version": 3
   },
   "file_extension": ".py",
   "mimetype": "text/x-python",
   "name": "python",
   "nbconvert_exporter": "python",
   "pygments_lexer": "ipython3",
   "version": "3.10.12"
  }
 },
 "nbformat": 4,
 "nbformat_minor": 2
}
