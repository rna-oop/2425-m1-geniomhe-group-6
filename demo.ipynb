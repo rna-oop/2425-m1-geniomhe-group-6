{
 "cells": [
  {
   "cell_type": "markdown",
   "metadata": {},
   "source": [
    "## Manipulating RNA spatial sequences: from zero to machine learning\n",
    "\n",
    "\n",
    "[![repo](https://img.shields.io/badge/Repository-_?style=for-the-badge&logo=Github&labelColor=black&color=black)](https://github.com/rna-oop/2425-m1-geniomhe-group-6) [![lib](https://img.shields.io/badge/Python-_?style=for-the-badge&logo=Python&labelColor=white&color=white)](https://github.com/rna-oop/2425-m1-geniomhe-group-6)"
   ]
  }
 ],
 "metadata": {
  "language_info": {
   "name": "python"
  }
 },
 "nbformat": 4,
 "nbformat_minor": 2
}
