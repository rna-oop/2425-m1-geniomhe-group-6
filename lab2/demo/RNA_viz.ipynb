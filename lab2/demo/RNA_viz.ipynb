{
 "cells": [
  {
   "cell_type": "markdown",
   "metadata": {},
   "source": [
    "# Lab 2: RNA coarse grained molecule 3d plot 🪢"
   ]
  },
  {
   "cell_type": "markdown",
   "metadata": {},
   "source": [
    "Since the coarse grained RNA molecule has been defined and demonstratd previously, out goal in this notebook is to portray it in 3D. We will use the `matplotlib` library to plot the molecule in 3D.\n",
    "\n",
    "To deal with the multiple atom conformations of a particular position, the atom with highest occupancy will be chosen as representative (`max_occupancy_atom` function). By default, teh representative of each residue will be the C alpha atom of highest occupancy.\n",
    "\n",
    "For that several helper functions has been implemented:\n",
    "\n",
    "- `max_occupancy_atom`: takes a list of atoms and returns the atom with highest occupancy \n",
    "- `chain_to_atom_list`: takes a chain and returns a list of atoms\n",
    "- `atoms_to_coordinates`: takes a list of atoms and returns a list of coordinates (3-tuples of floats)\n",
    "- `get_chain_residue_coordinates`: takes a chain and returns a list of coordinates (3-tuples of floats) of the representative atoms of each residue\n",
    "- `plot_chain_residue_coordinates`: takes a chain and plots the representative atoms of each residue in 3D\n",
    "\n",
    "The molecule to be plotted is the RNA molecule from the previous lab as example (PDB ID: 7AEF)"
   ]
  },
  {
   "cell_type": "markdown",
   "metadata": {},
   "source": [
    "## Set up"
   ]
  },
  {
   "cell_type": "code",
   "execution_count": 1,
   "metadata": {},
   "outputs": [
    {
     "name": "stdout",
     "output_type": "stream",
     "text": [
      "RF00162\n"
     ]
    }
   ],
   "source": [
    "import os,sys\n",
    "sys.path.append(os.path.abspath('../src'))\n",
    "\n",
    "import matplotlib.pyplot as plt\n",
    "from mpl_toolkits.mplot3d import Axes3D\n",
    "\n",
    "from IO.RNA_IO import RNA_IO\n",
    "from utils import pathify_pdb"
   ]
  },
  {
   "cell_type": "markdown",
   "metadata": {},
   "source": [
    "Functions to extract the coordinates directly from the chain"
   ]
  },
  {
   "cell_type": "code",
   "execution_count": null,
   "metadata": {},
   "outputs": [],
   "source": [
    "# -- useful functionalities\n",
    "\n",
    "def max_occupancy_atom(atoms_of_res):\n",
    "    '''takes a list of atoms of different conformations (type Atom) and returns the atom with the highest occupancy'''\n",
    "    max_occ_atom=None\n",
    "    max_occ=0\n",
    "    for atom in atoms_of_res:\n",
    "        if atom.occupancy>max_occ:\n",
    "            max_occ=atom.occupancy\n",
    "            max_occ_atom=atom\n",
    "    return max_occ_atom\n",
    "\n",
    "def chain_to_atom_list(chain):\n",
    "    '''takes a chain and returns a list of atoms'''\n",
    "    res_list=chain.get_residues()\n",
    "    atom_list=[]\n",
    "    for _ in range(1,1+len(res_list)):\n",
    "        res=res_list[_]\n",
    "        atoms_of_res=list(res.get_atoms().values())\n",
    "        atom_of_res=max_occupancy_atom(atoms_of_res)\n",
    "        atom_list.append(atom_of_res)\n",
    "    return atom_list\n",
    "\n",
    "def atoms_to_coordinates(atoms):\n",
    "    '''takes a list of Atom objects and retuns a list of 3-tuples of coordinates'''\n",
    "    coordinates=[]\n",
    "    for atom in atoms:\n",
    "        x,y,z=atom.x,atom.y,atom.z\n",
    "        coordinates.append((x,y,z))\n",
    "    return coordinates\n",
    "\n",
    "def chain_to_coordinates(chain):\n",
    "    '''takes a chain and returns a list of 3-tuples of coordinates'''\n",
    "    atom_list=chain_to_atom_list(chain)\n",
    "    return atoms_to_coordinates(atom_list)\n",
    "\n",
    "def get_chain_residue_coordinates(chain):\n",
    "    '''\n",
    "    takes a Chain object and returns a (contiguous) list of residues coordinates in 3-tuple format -> [(x1,y1,z1),...,(xn,yn,zn)]\n",
    "\n",
    "    _note, res coordinates are in fact c alpha coordinates_\n",
    "    '''\n",
    "    res_list=chain.get_residues()\n",
    "    res_coords=[]\n",
    "    for _ in range(1,len(res_list)+1):\n",
    "        res=res_list[_]\n",
    "        c_atom=list(res.get_atoms().values())\n",
    "        res_coords.append((c_atom[0].x,c_atom[0].y,c_atom[0].z))\n",
    "    return res_coords\n",
    "\n",
    "import plotly.graph_objects as go\n",
    "\n",
    "def plot_chain_residue_coordinates(res_coords, color):\n",
    "    \"\"\"\n",
    "    Plots the residue coordinates of a chain in 3D using Plotly.\n",
    "    \n",
    "    :param res_coords: List of (x, y, z) tuples representing residue coordinates\n",
    "    \"\"\"\n",
    "    x, y, z = zip(*res_coords)\n",
    "    \n",
    "    fig = go.Figure()\n",
    "    \n",
    "    # Add trace for the backbone\n",
    "    fig.add_trace(go.Scatter3d(\n",
    "        x=x, y=y, z=z,\n",
    "        mode='marker',\n",
    "        # marker=dict(size=5, color='blue', opacity=0.8),\n",
    "        marker=dict(width=2, color=color),\n",
    "        name='Backbone'\n",
    "    ))\n",
    "\n",
    "    # line=dict(\n",
    "    #     width=2, \n",
    "    #     color=z,  # Color based on z values\n",
    "    #     colorscale='Viridis'  # Viridis for line color\n",
    "    # ), \n",
    "    \n",
    "    # Layout settings\n",
    "    fig.update_layout(\n",
    "        title='3D Visualization of Chain Residue Coordinates',\n",
    "        scene=dict(\n",
    "            xaxis_title='X Coordinate',\n",
    "            yaxis_title='Y Coordinate',\n",
    "            zaxis_title='Z Coordinate'\n",
    "        ),\n",
    "        margin=dict(l=0, r=0, b=0, t=40)\n",
    "    )\n",
    "    \n",
    "    fig.show()\n",
    "    return fig\n",
    "\n",
    "def plot_molecule(rna_molecule, colormap='viridis'):\n",
    "    colormap_=plt.get_cmap(colormap)\n",
    "    models=rna_molecule.get_models()\n",
    "\n",
    "    colors=[colormap_(i/len(models)) for i in range(len(models))]\n",
    "\n",
    "    for i in range(len(models)):\n",
    "        model = models[i]\n",
    "        color=colors[i]\n",
    "        chains = list(model.get_chains().values())\n",
    "\n",
    "        for chain in chains:\n",
    "            res_coords = get_chain_residue_coordinates(chain)\n",
    "            plot_chain_residue_coordinates(res_coords, color=color)"
   ]
  },
  {
   "cell_type": "code",
   "execution_count": 22,
   "metadata": {},
   "outputs": [
    {
     "ename": "NameError",
     "evalue": "name 'plot_molecule' is not defined",
     "output_type": "error",
     "traceback": [
      "\u001b[0;31m---------------------------------------------------------------------------\u001b[0m",
      "\u001b[0;31mNameError\u001b[0m                                 Traceback (most recent call last)",
      "Cell \u001b[0;32mIn[22], line 1\u001b[0m\n\u001b[0;32m----> 1\u001b[0m \u001b[43mplot_molecule\u001b[49m(cg_mol)\n",
      "\u001b[0;31mNameError\u001b[0m: name 'plot_molecule' is not defined"
     ]
    }
   ],
   "source": [
    "plot_molecule(cg_mol)"
   ]
  },
  {
   "cell_type": "code",
   "execution_count": null,
   "metadata": {},
   "outputs": [
    {
     "data": {
      "text/plain": [
       "[(np.float64(0.267004),\n",
       "  np.float64(0.004874),\n",
       "  np.float64(0.329415),\n",
       "  np.float64(1.0)),\n",
       " (np.float64(0.127568),\n",
       "  np.float64(0.566949),\n",
       "  np.float64(0.550556),\n",
       "  np.float64(1.0))]"
      ]
     },
     "execution_count": 21,
     "metadata": {},
     "output_type": "execute_result"
    }
   ],
   "source": [
    "colormap=plt.get_cmap('viridis')\n",
    "# make it a list of length k\n",
    "chains=[1,2]\n",
    "colors=[colormap(i/len(chains)) for i in range(len(chains))]\n"
   ]
  },
  {
   "cell_type": "markdown",
   "metadata": {},
   "source": [
    "## Example from chain A of 7eaf:"
   ]
  },
  {
   "cell_type": "markdown",
   "metadata": {},
   "source": [
    "### reading file"
   ]
  },
  {
   "cell_type": "code",
   "execution_count": 3,
   "metadata": {},
   "outputs": [
    {
     "name": "stdout",
     "output_type": "stream",
     "text": [
      "Downloading PDB structure '7eaf'...\n"
     ]
    },
    {
     "name": "stdout",
     "output_type": "stream",
     "text": [
      ">> initializing new species: CALDANAEROBACTER SUBTERRANEUS SUBSP. TENGCONGENSIS <<\n"
     ]
    }
   ],
   "source": [
    "rna_io=RNA_IO()\n",
    "pdb_path=pathify_pdb('7EAF')\n",
    "cg_mol=rna_io.read(pdb_path, \"PDB\", coarse_grained=True, atom_name=\"C1'\") #atom_name is optional, default is \"C1'\"\n"
   ]
  },
  {
   "cell_type": "markdown",
   "metadata": {},
   "source": [
    "### retrieving chain A"
   ]
  },
  {
   "cell_type": "code",
   "execution_count": 4,
   "metadata": {},
   "outputs": [],
   "source": [
    "model_0=cg_mol.get_models()[0]\n",
    "cg_chainA=model_0.get_chains()['A']"
   ]
  },
  {
   "cell_type": "markdown",
   "metadata": {},
   "source": [
    "### plotting"
   ]
  },
  {
   "cell_type": "code",
   "execution_count": 16,
   "metadata": {},
   "outputs": [
    {
     "ename": "ValueError",
     "evalue": "Invalid property specified for object of type plotly.graph_objs.scatter3d.Marker: 'width'\n\nDid you mean \"cauto\"?\n\n    Valid properties:\n        autocolorscale\n            Determines whether the colorscale is a default palette\n            (`autocolorscale: true`) or the palette determined by\n            `marker.colorscale`. Has an effect only if in\n            `marker.color` is set to a numerical array. In case\n            `colorscale` is unspecified or `autocolorscale` is\n            true, the default palette will be chosen according to\n            whether numbers in the `color` array are all positive,\n            all negative or mixed.\n        cauto\n            Determines whether or not the color domain is computed\n            with respect to the input data (here in `marker.color`)\n            or the bounds set in `marker.cmin` and `marker.cmax`\n            Has an effect only if in `marker.color` is set to a\n            numerical array. Defaults to `false` when `marker.cmin`\n            and `marker.cmax` are set by the user.\n        cmax\n            Sets the upper bound of the color domain. Has an effect\n            only if in `marker.color` is set to a numerical array.\n            Value should have the same units as in `marker.color`\n            and if set, `marker.cmin` must be set as well.\n        cmid\n            Sets the mid-point of the color domain by scaling\n            `marker.cmin` and/or `marker.cmax` to be equidistant to\n            this point. Has an effect only if in `marker.color` is\n            set to a numerical array. Value should have the same\n            units as in `marker.color`. Has no effect when\n            `marker.cauto` is `false`.\n        cmin\n            Sets the lower bound of the color domain. Has an effect\n            only if in `marker.color` is set to a numerical array.\n            Value should have the same units as in `marker.color`\n            and if set, `marker.cmax` must be set as well.\n        color\n            Sets the marker color. It accepts either a specific\n            color or an array of numbers that are mapped to the\n            colorscale relative to the max and min values of the\n            array or relative to `marker.cmin` and `marker.cmax` if\n            set.\n        coloraxis\n            Sets a reference to a shared color axis. References to\n            these shared color axes are \"coloraxis\", \"coloraxis2\",\n            \"coloraxis3\", etc. Settings for these shared color axes\n            are set in the layout, under `layout.coloraxis`,\n            `layout.coloraxis2`, etc. Note that multiple color\n            scales can be linked to the same color axis.\n        colorbar\n            :class:`plotly.graph_objects.scatter3d.marker.ColorBar`\n            instance or dict with compatible properties\n        colorscale\n            Sets the colorscale. Has an effect only if in\n            `marker.color` is set to a numerical array. The\n            colorscale must be an array containing arrays mapping a\n            normalized value to an rgb, rgba, hex, hsl, hsv, or\n            named color string. At minimum, a mapping for the\n            lowest (0) and highest (1) values are required. For\n            example, `[[0, 'rgb(0,0,255)'], [1, 'rgb(255,0,0)']]`.\n            To control the bounds of the colorscale in color space,\n            use `marker.cmin` and `marker.cmax`. Alternatively,\n            `colorscale` may be a palette name string of the\n            following list: Blackbody,Bluered,Blues,Cividis,Earth,E\n            lectric,Greens,Greys,Hot,Jet,Picnic,Portland,Rainbow,Rd\n            Bu,Reds,Viridis,YlGnBu,YlOrRd.\n        colorsrc\n            Sets the source reference on Chart Studio Cloud for\n            `color`.\n        line\n            :class:`plotly.graph_objects.scatter3d.marker.Line`\n            instance or dict with compatible properties\n        opacity\n            Sets the marker opacity. Note that the marker opacity\n            for scatter3d traces must be a scalar value for\n            performance reasons. To set a blending opacity value\n            (i.e. which is not transparent), set \"marker.color\" to\n            an rgba color and use its alpha channel.\n        reversescale\n            Reverses the color mapping if true. Has an effect only\n            if in `marker.color` is set to a numerical array. If\n            true, `marker.cmin` will correspond to the last color\n            in the array and `marker.cmax` will correspond to the\n            first color.\n        showscale\n            Determines whether or not a colorbar is displayed for\n            this trace. Has an effect only if in `marker.color` is\n            set to a numerical array.\n        size\n            Sets the marker size (in px).\n        sizemin\n            Has an effect only if `marker.size` is set to a\n            numerical array. Sets the minimum size (in px) of the\n            rendered marker points.\n        sizemode\n            Has an effect only if `marker.size` is set to a\n            numerical array. Sets the rule for which the data in\n            `size` is converted to pixels.\n        sizeref\n            Has an effect only if `marker.size` is set to a\n            numerical array. Sets the scale factor used to\n            determine the rendered size of marker points. Use with\n            `sizemin` and `sizemode`.\n        sizesrc\n            Sets the source reference on Chart Studio Cloud for\n            `size`.\n        symbol\n            Sets the marker symbol type.\n        symbolsrc\n            Sets the source reference on Chart Studio Cloud for\n            `symbol`.\n        \nDid you mean \"cauto\"?\n\nBad property path:\nwidth\n^^^^^",
     "output_type": "error",
     "traceback": [
      "\u001b[0;31m---------------------------------------------------------------------------\u001b[0m",
      "\u001b[0;31mValueError\u001b[0m                                Traceback (most recent call last)",
      "Cell \u001b[0;32mIn[16], line 2\u001b[0m\n\u001b[1;32m      1\u001b[0m res_coords\u001b[38;5;241m=\u001b[39mget_chain_residue_coordinates(cg_chainA)\n\u001b[0;32m----> 2\u001b[0m \u001b[43mplot_chain_residue_coordinates\u001b[49m\u001b[43m(\u001b[49m\u001b[43mres_coords\u001b[49m\u001b[43m)\u001b[49m\n",
      "Cell \u001b[0;32mIn[15], line 64\u001b[0m, in \u001b[0;36mplot_chain_residue_coordinates\u001b[0;34m(res_coords)\u001b[0m\n\u001b[1;32m     61\u001b[0m fig \u001b[38;5;241m=\u001b[39m go\u001b[38;5;241m.\u001b[39mFigure()\n\u001b[1;32m     63\u001b[0m \u001b[38;5;66;03m# Add trace for the backbone\u001b[39;00m\n\u001b[0;32m---> 64\u001b[0m fig\u001b[38;5;241m.\u001b[39madd_trace(\u001b[43mgo\u001b[49m\u001b[38;5;241;43m.\u001b[39;49m\u001b[43mScatter3d\u001b[49m\u001b[43m(\u001b[49m\n\u001b[1;32m     65\u001b[0m \u001b[43m    \u001b[49m\u001b[43mx\u001b[49m\u001b[38;5;241;43m=\u001b[39;49m\u001b[43mx\u001b[49m\u001b[43m,\u001b[49m\u001b[43m \u001b[49m\u001b[43my\u001b[49m\u001b[38;5;241;43m=\u001b[39;49m\u001b[43my\u001b[49m\u001b[43m,\u001b[49m\u001b[43m \u001b[49m\u001b[43mz\u001b[49m\u001b[38;5;241;43m=\u001b[39;49m\u001b[43mz\u001b[49m\u001b[43m,\u001b[49m\n\u001b[1;32m     66\u001b[0m \u001b[43m    \u001b[49m\u001b[43mmode\u001b[49m\u001b[38;5;241;43m=\u001b[39;49m\u001b[38;5;124;43m'\u001b[39;49m\u001b[38;5;124;43mmarker\u001b[39;49m\u001b[38;5;124;43m'\u001b[39;49m\u001b[43m,\u001b[49m\n\u001b[1;32m     67\u001b[0m \u001b[43m    \u001b[49m\u001b[38;5;66;43;03m# marker=dict(size=5, color='blue', opacity=0.8),\u001b[39;49;00m\n\u001b[1;32m     68\u001b[0m \u001b[43m    \u001b[49m\u001b[43mmarker\u001b[49m\u001b[38;5;241;43m=\u001b[39;49m\u001b[38;5;28;43mdict\u001b[39;49m\u001b[43m(\u001b[49m\u001b[43mwidth\u001b[49m\u001b[38;5;241;43m=\u001b[39;49m\u001b[38;5;241;43m2\u001b[39;49m\u001b[43m,\u001b[49m\u001b[43m \u001b[49m\u001b[43mcolor\u001b[49m\u001b[38;5;241;43m=\u001b[39;49m\u001b[43mz\u001b[49m\u001b[43m,\u001b[49m\u001b[43mcolorscale\u001b[49m\u001b[38;5;241;43m=\u001b[39;49m\u001b[38;5;124;43m'\u001b[39;49m\u001b[38;5;124;43mViridis\u001b[39;49m\u001b[38;5;124;43m'\u001b[39;49m\u001b[43m)\u001b[49m\u001b[43m,\u001b[49m\n\u001b[1;32m     69\u001b[0m \u001b[43m    \u001b[49m\u001b[43mname\u001b[49m\u001b[38;5;241;43m=\u001b[39;49m\u001b[38;5;124;43m'\u001b[39;49m\u001b[38;5;124;43mBackbone\u001b[39;49m\u001b[38;5;124;43m'\u001b[39;49m\n\u001b[1;32m     70\u001b[0m \u001b[43m\u001b[49m\u001b[43m)\u001b[49m)\n\u001b[1;32m     72\u001b[0m \u001b[38;5;66;03m# line=dict(\u001b[39;00m\n\u001b[1;32m     73\u001b[0m \u001b[38;5;66;03m#     width=2, \u001b[39;00m\n\u001b[1;32m     74\u001b[0m \u001b[38;5;66;03m#     color=z,  # Color based on z values\u001b[39;00m\n\u001b[0;32m   (...)\u001b[0m\n\u001b[1;32m     77\u001b[0m \n\u001b[1;32m     78\u001b[0m \u001b[38;5;66;03m# Layout settings\u001b[39;00m\n\u001b[1;32m     79\u001b[0m fig\u001b[38;5;241m.\u001b[39mupdate_layout(\n\u001b[1;32m     80\u001b[0m     title\u001b[38;5;241m=\u001b[39m\u001b[38;5;124m'\u001b[39m\u001b[38;5;124m3D Visualization of Chain Residue Coordinates\u001b[39m\u001b[38;5;124m'\u001b[39m,\n\u001b[1;32m     81\u001b[0m     scene\u001b[38;5;241m=\u001b[39m\u001b[38;5;28mdict\u001b[39m(\n\u001b[0;32m   (...)\u001b[0m\n\u001b[1;32m     86\u001b[0m     margin\u001b[38;5;241m=\u001b[39m\u001b[38;5;28mdict\u001b[39m(l\u001b[38;5;241m=\u001b[39m\u001b[38;5;241m0\u001b[39m, r\u001b[38;5;241m=\u001b[39m\u001b[38;5;241m0\u001b[39m, b\u001b[38;5;241m=\u001b[39m\u001b[38;5;241m0\u001b[39m, t\u001b[38;5;241m=\u001b[39m\u001b[38;5;241m40\u001b[39m)\n\u001b[1;32m     87\u001b[0m )\n",
      "File \u001b[0;32m~/miniconda3/lib/python3.12/site-packages/plotly/graph_objs/_scatter3d.py:2697\u001b[0m, in \u001b[0;36mScatter3d.__init__\u001b[0;34m(self, arg, connectgaps, customdata, customdatasrc, error_x, error_y, error_z, hoverinfo, hoverinfosrc, hoverlabel, hovertemplate, hovertemplatesrc, hovertext, hovertextsrc, ids, idssrc, legend, legendgroup, legendgrouptitle, legendrank, legendwidth, line, marker, meta, metasrc, mode, name, opacity, projection, scene, showlegend, stream, surfaceaxis, surfacecolor, text, textfont, textposition, textpositionsrc, textsrc, texttemplate, texttemplatesrc, uid, uirevision, visible, x, xcalendar, xhoverformat, xsrc, y, ycalendar, yhoverformat, ysrc, z, zcalendar, zhoverformat, zsrc, **kwargs)\u001b[0m\n\u001b[1;32m   2695\u001b[0m _v \u001b[38;5;241m=\u001b[39m marker \u001b[38;5;28;01mif\u001b[39;00m marker \u001b[38;5;129;01mis\u001b[39;00m \u001b[38;5;129;01mnot\u001b[39;00m \u001b[38;5;28;01mNone\u001b[39;00m \u001b[38;5;28;01melse\u001b[39;00m _v\n\u001b[1;32m   2696\u001b[0m \u001b[38;5;28;01mif\u001b[39;00m _v \u001b[38;5;129;01mis\u001b[39;00m \u001b[38;5;129;01mnot\u001b[39;00m \u001b[38;5;28;01mNone\u001b[39;00m:\n\u001b[0;32m-> 2697\u001b[0m     \u001b[38;5;28;43mself\u001b[39;49m\u001b[43m[\u001b[49m\u001b[38;5;124;43m\"\u001b[39;49m\u001b[38;5;124;43mmarker\u001b[39;49m\u001b[38;5;124;43m\"\u001b[39;49m\u001b[43m]\u001b[49m \u001b[38;5;241m=\u001b[39m _v\n\u001b[1;32m   2698\u001b[0m _v \u001b[38;5;241m=\u001b[39m arg\u001b[38;5;241m.\u001b[39mpop(\u001b[38;5;124m\"\u001b[39m\u001b[38;5;124mmeta\u001b[39m\u001b[38;5;124m\"\u001b[39m, \u001b[38;5;28;01mNone\u001b[39;00m)\n\u001b[1;32m   2699\u001b[0m _v \u001b[38;5;241m=\u001b[39m meta \u001b[38;5;28;01mif\u001b[39;00m meta \u001b[38;5;129;01mis\u001b[39;00m \u001b[38;5;129;01mnot\u001b[39;00m \u001b[38;5;28;01mNone\u001b[39;00m \u001b[38;5;28;01melse\u001b[39;00m _v\n",
      "File \u001b[0;32m~/miniconda3/lib/python3.12/site-packages/plotly/basedatatypes.py:4860\u001b[0m, in \u001b[0;36mBasePlotlyType.__setitem__\u001b[0;34m(self, prop, value)\u001b[0m\n\u001b[1;32m   4858\u001b[0m \u001b[38;5;66;03m# ### Handle compound property ###\u001b[39;00m\n\u001b[1;32m   4859\u001b[0m \u001b[38;5;28;01mif\u001b[39;00m \u001b[38;5;28misinstance\u001b[39m(validator, CompoundValidator):\n\u001b[0;32m-> 4860\u001b[0m     \u001b[38;5;28;43mself\u001b[39;49m\u001b[38;5;241;43m.\u001b[39;49m\u001b[43m_set_compound_prop\u001b[49m\u001b[43m(\u001b[49m\u001b[43mprop\u001b[49m\u001b[43m,\u001b[49m\u001b[43m \u001b[49m\u001b[43mvalue\u001b[49m\u001b[43m)\u001b[49m\n\u001b[1;32m   4862\u001b[0m \u001b[38;5;66;03m# ### Handle compound array property ###\u001b[39;00m\n\u001b[1;32m   4863\u001b[0m \u001b[38;5;28;01melif\u001b[39;00m \u001b[38;5;28misinstance\u001b[39m(validator, (CompoundArrayValidator, BaseDataValidator)):\n",
      "File \u001b[0;32m~/miniconda3/lib/python3.12/site-packages/plotly/basedatatypes.py:5271\u001b[0m, in \u001b[0;36mBasePlotlyType._set_compound_prop\u001b[0;34m(self, prop, val)\u001b[0m\n\u001b[1;32m   5268\u001b[0m \u001b[38;5;66;03m# Import value\u001b[39;00m\n\u001b[1;32m   5269\u001b[0m \u001b[38;5;66;03m# ------------\u001b[39;00m\n\u001b[1;32m   5270\u001b[0m validator \u001b[38;5;241m=\u001b[39m \u001b[38;5;28mself\u001b[39m\u001b[38;5;241m.\u001b[39m_get_validator(prop)\n\u001b[0;32m-> 5271\u001b[0m val \u001b[38;5;241m=\u001b[39m \u001b[43mvalidator\u001b[49m\u001b[38;5;241;43m.\u001b[39;49m\u001b[43mvalidate_coerce\u001b[49m\u001b[43m(\u001b[49m\u001b[43mval\u001b[49m\u001b[43m,\u001b[49m\u001b[43m \u001b[49m\u001b[43mskip_invalid\u001b[49m\u001b[38;5;241;43m=\u001b[39;49m\u001b[38;5;28;43mself\u001b[39;49m\u001b[38;5;241;43m.\u001b[39;49m\u001b[43m_skip_invalid\u001b[49m\u001b[43m)\u001b[49m\n\u001b[1;32m   5273\u001b[0m \u001b[38;5;66;03m# Save deep copies of current and new states\u001b[39;00m\n\u001b[1;32m   5274\u001b[0m \u001b[38;5;66;03m# ------------------------------------------\u001b[39;00m\n\u001b[1;32m   5275\u001b[0m curr_val \u001b[38;5;241m=\u001b[39m \u001b[38;5;28mself\u001b[39m\u001b[38;5;241m.\u001b[39m_compound_props\u001b[38;5;241m.\u001b[39mget(prop, \u001b[38;5;28;01mNone\u001b[39;00m)\n",
      "File \u001b[0;32m~/miniconda3/lib/python3.12/site-packages/_plotly_utils/basevalidators.py:2512\u001b[0m, in \u001b[0;36mCompoundValidator.validate_coerce\u001b[0;34m(self, v, skip_invalid, _validate)\u001b[0m\n\u001b[1;32m   2509\u001b[0m     v \u001b[38;5;241m=\u001b[39m \u001b[38;5;28mself\u001b[39m\u001b[38;5;241m.\u001b[39mdata_class()\n\u001b[1;32m   2511\u001b[0m \u001b[38;5;28;01melif\u001b[39;00m \u001b[38;5;28misinstance\u001b[39m(v, \u001b[38;5;28mdict\u001b[39m):\n\u001b[0;32m-> 2512\u001b[0m     v \u001b[38;5;241m=\u001b[39m \u001b[38;5;28;43mself\u001b[39;49m\u001b[38;5;241;43m.\u001b[39;49m\u001b[43mdata_class\u001b[49m\u001b[43m(\u001b[49m\u001b[43mv\u001b[49m\u001b[43m,\u001b[49m\u001b[43m \u001b[49m\u001b[43mskip_invalid\u001b[49m\u001b[38;5;241;43m=\u001b[39;49m\u001b[43mskip_invalid\u001b[49m\u001b[43m,\u001b[49m\u001b[43m \u001b[49m\u001b[43m_validate\u001b[49m\u001b[38;5;241;43m=\u001b[39;49m\u001b[43m_validate\u001b[49m\u001b[43m)\u001b[49m\n\u001b[1;32m   2514\u001b[0m \u001b[38;5;28;01melif\u001b[39;00m \u001b[38;5;28misinstance\u001b[39m(v, \u001b[38;5;28mself\u001b[39m\u001b[38;5;241m.\u001b[39mdata_class):\n\u001b[1;32m   2515\u001b[0m     \u001b[38;5;66;03m# Copy object\u001b[39;00m\n\u001b[1;32m   2516\u001b[0m     v \u001b[38;5;241m=\u001b[39m \u001b[38;5;28mself\u001b[39m\u001b[38;5;241m.\u001b[39mdata_class(v)\n",
      "File \u001b[0;32m~/miniconda3/lib/python3.12/site-packages/plotly/graph_objs/scatter3d/_marker.py:1334\u001b[0m, in \u001b[0;36mMarker.__init__\u001b[0;34m(self, arg, autocolorscale, cauto, cmax, cmid, cmin, color, coloraxis, colorbar, colorscale, colorsrc, line, opacity, reversescale, showscale, size, sizemin, sizemode, sizeref, sizesrc, symbol, symbolsrc, **kwargs)\u001b[0m\n\u001b[1;32m   1330\u001b[0m     \u001b[38;5;28mself\u001b[39m[\u001b[38;5;124m\"\u001b[39m\u001b[38;5;124msymbolsrc\u001b[39m\u001b[38;5;124m\"\u001b[39m] \u001b[38;5;241m=\u001b[39m _v\n\u001b[1;32m   1332\u001b[0m \u001b[38;5;66;03m# Process unknown kwargs\u001b[39;00m\n\u001b[1;32m   1333\u001b[0m \u001b[38;5;66;03m# ----------------------\u001b[39;00m\n\u001b[0;32m-> 1334\u001b[0m \u001b[38;5;28;43mself\u001b[39;49m\u001b[38;5;241;43m.\u001b[39;49m\u001b[43m_process_kwargs\u001b[49m\u001b[43m(\u001b[49m\u001b[38;5;241;43m*\u001b[39;49m\u001b[38;5;241;43m*\u001b[39;49m\u001b[38;5;28;43mdict\u001b[39;49m\u001b[43m(\u001b[49m\u001b[43marg\u001b[49m\u001b[43m,\u001b[49m\u001b[43m \u001b[49m\u001b[38;5;241;43m*\u001b[39;49m\u001b[38;5;241;43m*\u001b[39;49m\u001b[43mkwargs\u001b[49m\u001b[43m)\u001b[49m\u001b[43m)\u001b[49m\n\u001b[1;32m   1336\u001b[0m \u001b[38;5;66;03m# Reset skip_invalid\u001b[39;00m\n\u001b[1;32m   1337\u001b[0m \u001b[38;5;66;03m# ------------------\u001b[39;00m\n\u001b[1;32m   1338\u001b[0m \u001b[38;5;28mself\u001b[39m\u001b[38;5;241m.\u001b[39m_skip_invalid \u001b[38;5;241m=\u001b[39m \u001b[38;5;28;01mFalse\u001b[39;00m\n",
      "File \u001b[0;32m~/miniconda3/lib/python3.12/site-packages/plotly/basedatatypes.py:4386\u001b[0m, in \u001b[0;36mBasePlotlyType._process_kwargs\u001b[0;34m(self, **kwargs)\u001b[0m\n\u001b[1;32m   4384\u001b[0m     \u001b[38;5;28mself\u001b[39m[k] \u001b[38;5;241m=\u001b[39m v\n\u001b[1;32m   4385\u001b[0m \u001b[38;5;28;01melif\u001b[39;00m \u001b[38;5;129;01mnot\u001b[39;00m \u001b[38;5;28mself\u001b[39m\u001b[38;5;241m.\u001b[39m_skip_invalid:\n\u001b[0;32m-> 4386\u001b[0m     \u001b[38;5;28;01mraise\u001b[39;00m err\n",
      "\u001b[0;31mValueError\u001b[0m: Invalid property specified for object of type plotly.graph_objs.scatter3d.Marker: 'width'\n\nDid you mean \"cauto\"?\n\n    Valid properties:\n        autocolorscale\n            Determines whether the colorscale is a default palette\n            (`autocolorscale: true`) or the palette determined by\n            `marker.colorscale`. Has an effect only if in\n            `marker.color` is set to a numerical array. In case\n            `colorscale` is unspecified or `autocolorscale` is\n            true, the default palette will be chosen according to\n            whether numbers in the `color` array are all positive,\n            all negative or mixed.\n        cauto\n            Determines whether or not the color domain is computed\n            with respect to the input data (here in `marker.color`)\n            or the bounds set in `marker.cmin` and `marker.cmax`\n            Has an effect only if in `marker.color` is set to a\n            numerical array. Defaults to `false` when `marker.cmin`\n            and `marker.cmax` are set by the user.\n        cmax\n            Sets the upper bound of the color domain. Has an effect\n            only if in `marker.color` is set to a numerical array.\n            Value should have the same units as in `marker.color`\n            and if set, `marker.cmin` must be set as well.\n        cmid\n            Sets the mid-point of the color domain by scaling\n            `marker.cmin` and/or `marker.cmax` to be equidistant to\n            this point. Has an effect only if in `marker.color` is\n            set to a numerical array. Value should have the same\n            units as in `marker.color`. Has no effect when\n            `marker.cauto` is `false`.\n        cmin\n            Sets the lower bound of the color domain. Has an effect\n            only if in `marker.color` is set to a numerical array.\n            Value should have the same units as in `marker.color`\n            and if set, `marker.cmax` must be set as well.\n        color\n            Sets the marker color. It accepts either a specific\n            color or an array of numbers that are mapped to the\n            colorscale relative to the max and min values of the\n            array or relative to `marker.cmin` and `marker.cmax` if\n            set.\n        coloraxis\n            Sets a reference to a shared color axis. References to\n            these shared color axes are \"coloraxis\", \"coloraxis2\",\n            \"coloraxis3\", etc. Settings for these shared color axes\n            are set in the layout, under `layout.coloraxis`,\n            `layout.coloraxis2`, etc. Note that multiple color\n            scales can be linked to the same color axis.\n        colorbar\n            :class:`plotly.graph_objects.scatter3d.marker.ColorBar`\n            instance or dict with compatible properties\n        colorscale\n            Sets the colorscale. Has an effect only if in\n            `marker.color` is set to a numerical array. The\n            colorscale must be an array containing arrays mapping a\n            normalized value to an rgb, rgba, hex, hsl, hsv, or\n            named color string. At minimum, a mapping for the\n            lowest (0) and highest (1) values are required. For\n            example, `[[0, 'rgb(0,0,255)'], [1, 'rgb(255,0,0)']]`.\n            To control the bounds of the colorscale in color space,\n            use `marker.cmin` and `marker.cmax`. Alternatively,\n            `colorscale` may be a palette name string of the\n            following list: Blackbody,Bluered,Blues,Cividis,Earth,E\n            lectric,Greens,Greys,Hot,Jet,Picnic,Portland,Rainbow,Rd\n            Bu,Reds,Viridis,YlGnBu,YlOrRd.\n        colorsrc\n            Sets the source reference on Chart Studio Cloud for\n            `color`.\n        line\n            :class:`plotly.graph_objects.scatter3d.marker.Line`\n            instance or dict with compatible properties\n        opacity\n            Sets the marker opacity. Note that the marker opacity\n            for scatter3d traces must be a scalar value for\n            performance reasons. To set a blending opacity value\n            (i.e. which is not transparent), set \"marker.color\" to\n            an rgba color and use its alpha channel.\n        reversescale\n            Reverses the color mapping if true. Has an effect only\n            if in `marker.color` is set to a numerical array. If\n            true, `marker.cmin` will correspond to the last color\n            in the array and `marker.cmax` will correspond to the\n            first color.\n        showscale\n            Determines whether or not a colorbar is displayed for\n            this trace. Has an effect only if in `marker.color` is\n            set to a numerical array.\n        size\n            Sets the marker size (in px).\n        sizemin\n            Has an effect only if `marker.size` is set to a\n            numerical array. Sets the minimum size (in px) of the\n            rendered marker points.\n        sizemode\n            Has an effect only if `marker.size` is set to a\n            numerical array. Sets the rule for which the data in\n            `size` is converted to pixels.\n        sizeref\n            Has an effect only if `marker.size` is set to a\n            numerical array. Sets the scale factor used to\n            determine the rendered size of marker points. Use with\n            `sizemin` and `sizemode`.\n        sizesrc\n            Sets the source reference on Chart Studio Cloud for\n            `size`.\n        symbol\n            Sets the marker symbol type.\n        symbolsrc\n            Sets the source reference on Chart Studio Cloud for\n            `symbol`.\n        \nDid you mean \"cauto\"?\n\nBad property path:\nwidth\n^^^^^"
     ]
    }
   ],
   "source": [
    "res_coords=get_chain_residue_coordinates(cg_chainA)\n",
    "plot_chain_residue_coordinates(res_coords)"
   ]
  },
  {
   "cell_type": "markdown",
   "metadata": {},
   "source": [
    "Possible extensions:\n",
    "\n",
    "* enhancement of plot, use of other libraries, colors, styles, make it interactive...\n",
    "* make the functions methods in repsective classes and add plotting utilities to utils or viz modules\n"
   ]
  }
 ],
 "metadata": {
  "kernelspec": {
   "display_name": "base",
   "language": "python",
   "name": "python3"
  },
  "language_info": {
   "codemirror_mode": {
    "name": "ipython",
    "version": 3
   },
   "file_extension": ".py",
   "mimetype": "text/x-python",
   "name": "python",
   "nbconvert_exporter": "python",
   "pygments_lexer": "ipython3",
   "version": "3.12.2"
  }
 },
 "nbformat": 4,
 "nbformat_minor": 2
}
