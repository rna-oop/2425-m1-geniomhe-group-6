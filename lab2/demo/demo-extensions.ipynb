{
 "cells": [
  {
   "cell_type": "markdown",
   "metadata": {},
   "source": [
    "# Lab 2: demo (extensions) 📓"
   ]
  },
  {
   "cell_type": "markdown",
   "metadata": {},
   "source": [
    "The purpose of this lab is to add the ability to decouple parsing/writing from creating the `RNA_Molecule` object. This is an encapsulatd step that will not change the was the user would interact with this utility, but rather make the interface more flexible and less susceptible to errors coming from changes in the future.\n",
    "\n",
    "This demo in particular shows the enhancements that we have added to teh library's interface."
   ]
  },
  {
   "cell_type": "code",
   "execution_count": 1,
   "metadata": {},
   "outputs": [
    {
     "name": "stdout",
     "output_type": "stream",
     "text": [
      "RF00162\n"
     ]
    }
   ],
   "source": [
    "# -- necessary setup\n",
    "\n",
    "import os,sys\n",
    "sys.path.append(os.path.abspath('src'))\n",
    "\n",
    "from IO.RNA_IO import RNA_IO\n",
    "from Structure.RNA_Molecule import RNA_Molecule\n",
    "from Families.family import Family\n",
    "from utils import pathify_pdb, get_pdb_ids_from_fam"
   ]
  },
  {
   "cell_type": "markdown",
   "metadata": {},
   "source": [
    "## Reading from file 🔎"
   ]
  },
  {
   "cell_type": "markdown",
   "metadata": {},
   "source": [
    "Reminder on reading from files, as this is crucial step now to take into consideration"
   ]
  },
  {
   "cell_type": "code",
   "execution_count": 2,
   "metadata": {},
   "outputs": [
    {
     "name": "stdout",
     "output_type": "stream",
     "text": [
      "Downloading PDB structure '7eaf'...\n",
      ">> initializing new species: CALDANAEROBACTER SUBTERRANEUS SUBSP. <<\n",
      "RNA_Molecule 7EAF already exists in the species CALDANAEROBACTER SUBTERRANEUS SUBSP.; not added again\n"
     ]
    }
   ],
   "source": [
    "rna_io=RNA_IO()\n",
    "pdb_path=pathify_pdb('7EAF')\n",
    "mol=rna_io.read(pdb_path, \"PDB\")\n",
    "# mol.print_all()"
   ]
  },
  {
   "cell_type": "markdown",
   "metadata": {},
   "source": [
    "## Extensions 🧩"
   ]
  },
  {
   "cell_type": "markdown",
   "metadata": {},
   "source": [
    "### Species class functionality"
   ]
  },
  {
   "cell_type": "markdown",
   "metadata": {},
   "source": [
    "In order to account for instanciated species, and because we dont wanna lose track of what we have created and the connection to each species with ther types, we have implemenented a class attribute `declared_species` that ensures:  \n",
    "* unicity of a species instance \n",
    "* ability to access and point to equivalent species instances\n",
    "\n",
    "This is particularly helpful with the 1-N relationship `Species` have with `RNA_Molecule` instances. 1 RNA-Molecule instance can be found in 1 Species, but 1 Species can have multiple RNA_Molecule instances. Thus we have added an attribute in Species that stores a dictionary of RNA_Molecule instances, with the key being the RNA_Molecule instance's id (to enhance lookup speed using the dict's inherent hashing compared to looping through a list). And for the relationship to be well implemented, we have added a `species` attribute in the RNA_Molecule class that points to the Species instance it belongs to. The latter is only set by appending an RNA_Molecule instance to a Species instance, and not by setting it directly (automatic handling). In this way, the `declared_species` class attribute ensures that one species instance can have multiple RNA_Molecule instances.  \n",
    "_e.g., rna molecule 1 associated with E.coli species, rna molecule 2 associated with E.coli species, we would find only one E.coli species instance in the declared_species attribute, with the two RNA_Molecule instances in its rna molecules dictionary corresponding to rna1 and rna2_"
   ]
  },
  {
   "cell_type": "code",
   "execution_count": 2,
   "metadata": {},
   "outputs": [
    {
     "name": "stdout",
     "output_type": "stream",
     "text": [
      ">> initializing new species: Homo sapiens <<\n",
      ">> initializing new species: Triticum aestivum <<\n",
      "> note: Species with this name already exists, will return the same instance\n",
      "checking if 2 instanciated homo sapiens species are considered equal human==hooman: True\n",
      "Accessing full list of declared species: [\n",
      "        Species(\n",
      "            name=Homo sapiens,\n",
      "            rna_molecules={}\n",
      "        ), \n",
      "        Species(\n",
      "            name=Triticum aestivum,\n",
      "            rna_molecules={}\n",
      "        )]\n"
     ]
    }
   ],
   "source": [
    "from Families.species import Species\n",
    "\n",
    "human=Species(\"Homo sapiens\")\n",
    "wheat=Species(\"Triticum aestivum\")\n",
    "hooman=Species('Homo sapiens')\n",
    "\n",
    "print('checking if 2 instanciated homo sapiens species are considered equal human==hooman:',human==hooman)\n",
    "print('Accessing full list of declared species:',Species.declared_species)"
   ]
  },
  {
   "cell_type": "code",
   "execution_count": 3,
   "metadata": {},
   "outputs": [
    {
     "name": "stdout",
     "output_type": "stream",
     "text": [
      "RNA_Molecule 1A9N already exists in the species Homo sapiens; not added again\n",
      "> note: Species with this name already exists, will return the same instance\n",
      "RNA_Molecule 8TIM already exists in the species Homo sapiens; not added again\n",
      "\n",
      "[\n",
      "        Species(\n",
      "            name=Homo sapiens,\n",
      "            rna_molecules={'1A9N': ID: 1A9N Experiment: NMR Homo sapiens species, '8TIM': ID: 8TIM Experiment: XRAY Homo sapiens species}\n",
      "        ), \n",
      "        Species(\n",
      "            name=Triticum aestivum,\n",
      "            rna_molecules={}\n",
      "        )]\n",
      "\n",
      "dict_keys(['1A9N', '8TIM'])\n"
     ]
    }
   ],
   "source": [
    "rna1 = RNA_Molecule(\"1A9N\", \"NMR\", human)\n",
    "rna2= RNA_Molecule('8TIM','XRAY','Homo sapiens')\n",
    "# -- notice how we have enabled the user to enter a string as species\n",
    "# type conversion will be handeled behind the scenes\n",
    "\n",
    "print()\n",
    "print(Species.declared_species)\n",
    "print()\n",
    "print(human.rna_molecules.keys())"
   ]
  },
  {
   "cell_type": "markdown",
   "metadata": {},
   "source": [
    "### Family species distribution"
   ]
  },
  {
   "cell_type": "markdown",
   "metadata": {},
   "source": [
    "Example on synthetic data to see how the species distribution would look like"
   ]
  },
  {
   "cell_type": "code",
   "execution_count": 4,
   "metadata": {},
   "outputs": [
    {
     "name": "stdout",
     "output_type": "stream",
     "text": [
      "Warning: Family object created without database connection, creating a new family with provided id and name\n",
      "Family created successfully\n",
      "> note: Species with this name already exists, will return the same instance\n",
      "RNA_Molecule 1 already exists in the species Homo sapiens; not added again\n",
      "> note: Species with this name already exists, will return the same instance\n",
      "RNA_Molecule 2 already exists in the species Homo sapiens; not added again\n",
      ">> initializing new species: Escherichia coli <<\n",
      "RNA_Molecule 3 already exists in the species Escherichia coli; not added again\n",
      ">> initializing new species: cervisiae <<\n",
      "RNA_Molecule 4 already exists in the species cervisiae; not added again\n"
     ]
    }
   ],
   "source": [
    "fam1 = Family(\"1\",'test1')\n",
    "rna1=RNA_Molecule(\"1\",'XRAY','Homo sapiens')\n",
    "rna2=RNA_Molecule('2','XRAY','Homo sapiens')\n",
    "rna3=RNA_Molecule('3','XRAY','Escherichia coli')\n",
    "rna4=RNA_Molecule('4','XRAY','cervisiae')\n",
    "\n",
    "fam1.add_RNA(rna1)\n",
    "fam1.add_RNA(rna2)\n",
    "fam1.add_RNA(rna3)\n",
    "fam1.add_RNA(rna4)"
   ]
  },
  {
   "cell_type": "code",
   "execution_count": 5,
   "metadata": {},
   "outputs": [
    {
     "name": "stdout",
     "output_type": "stream",
     "text": [
      "            Species  Count                      Label\n",
      "0      Homo sapiens      2      Species: Homo sapiens\n",
      "1  Escherichia coli      1  Species: Escherichia coli\n",
      "2         cervisiae      1         Species: cervisiae\n"
     ]
    },
    {
     "data": {
      "image/png": "[encoded data removed]",
      "text/plain": [
       "<Figure size 640x480 with 1 Axes>"
      ]
     },
     "metadata": {},
     "output_type": "display_data"
    }
   ],
   "source": [
    "print(fam1.distribution())\n",
    "fam1.plot_distribution()"
   ]
  },
  {
   "cell_type": "markdown",
   "metadata": {},
   "source": [
    "Example on a real family (example does not hold bcs species info is not extracted from the pdb files)"
   ]
  },
  {
   "cell_type": "code",
   "execution_count": 1,
   "metadata": {},
   "outputs": [],
   "source": [
    "# pdb_ids=get_pdb_ids_from_fam('RF01510')\n",
    "# molecules=[]\n",
    "# fam=Family(id='RF01510',name='test')\n",
    "\n",
    "# for pdb_id in pdb_ids:\n",
    "#     rna_io=RNA_IO()\n",
    "#     rna=rna_io.read(pathify_pdb(pdb_id),format='PDB')\n",
    "#     print(rna)\n",
    "#     molecules.append(rna)\n",
    "   \n",
    "# -- testing"
   ]
  }
 ],
 "metadata": {
  "kernelspec": {
   "display_name": "base",
   "language": "python",
   "name": "python3"
  },
  "language_info": {
   "codemirror_mode": {
    "name": "ipython",
    "version": 3
   },
   "file_extension": ".py",
   "mimetype": "text/x-python",
   "name": "python",
   "nbconvert_exporter": "python",
   "pygments_lexer": "ipython3",
   "version": "3.12.2"
  }
 },
 "nbformat": 4,
 "nbformat_minor": 2
}
